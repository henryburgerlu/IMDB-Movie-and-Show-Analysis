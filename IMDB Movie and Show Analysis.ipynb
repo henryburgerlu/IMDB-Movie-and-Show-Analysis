{
 "cells": [
  {
   "cell_type": "markdown",
   "id": "df6c5548-9490-4a84-b572-f310b6f8b694",
   "metadata": {},
   "source": [
    "# IMDB Movie and Show Analysis"
   ]
  },
  {
   "cell_type": "markdown",
   "id": "100de496-d07c-4cbc-bcc7-194500eeafd4",
   "metadata": {},
   "source": [
    "## Objective: \n",
    "The purpose of this analysis is to uncover historical trends and performance indicators in movies and television shows using IMDb metadata spanning multiple decades. By examining factors such as genre popularity, release timelines, and IMDb scores, this project aims to provide data-driven recommendations for content studios—such as Netflix, Hulu, or major film studios—on what types of content to prioritize in future productions to maximize critical acclaim and viewer resonance."
   ]
  },
  {
   "cell_type": "code",
   "execution_count": 17,
   "id": "44e8da88-b3fc-4191-b656-c5d9b4a85830",
   "metadata": {},
   "outputs": [],
   "source": [
    "import pandas as pd\n",
    "import numpy as np\n",
    "import matplotlib.pyplot as plt\n",
    "import plotly.express as px\n"
   ]
  },
  {
   "cell_type": "code",
   "execution_count": 18,
   "id": "805b8199-52ef-4111-873b-4ee8e64b42d0",
   "metadata": {
    "tags": []
   },
   "outputs": [],
   "source": [
    "df = pd.read_csv(\"Titles.csv\")  # Assuming Titles.csv is in the same directory as your script"
   ]
  },
  {
   "cell_type": "code",
   "execution_count": 19,
   "id": "3850c402-8981-41ab-93be-f3f2ac99ea03",
   "metadata": {
    "tags": []
   },
   "outputs": [],
   "source": [
    "import os"
   ]
  },
  {
   "cell_type": "code",
   "execution_count": 20,
   "id": "f72923e1-8936-486f-907c-5960858fa3b5",
   "metadata": {},
   "outputs": [
    {
     "data": {
      "text/html": [
       "<div>\n",
       "<style scoped>\n",
       "    .dataframe tbody tr th:only-of-type {\n",
       "        vertical-align: middle;\n",
       "    }\n",
       "\n",
       "    .dataframe tbody tr th {\n",
       "        vertical-align: top;\n",
       "    }\n",
       "\n",
       "    .dataframe thead th {\n",
       "        text-align: right;\n",
       "    }\n",
       "</style>\n",
       "<table border=\"1\" class=\"dataframe\">\n",
       "  <thead>\n",
       "    <tr style=\"text-align: right;\">\n",
       "      <th></th>\n",
       "      <th>id</th>\n",
       "      <th>title</th>\n",
       "      <th>type</th>\n",
       "      <th>description</th>\n",
       "      <th>release_year</th>\n",
       "      <th>age_certification</th>\n",
       "      <th>runtime</th>\n",
       "      <th>genres</th>\n",
       "      <th>production_countries</th>\n",
       "      <th>seasons</th>\n",
       "      <th>imdb_id</th>\n",
       "      <th>imdb_score</th>\n",
       "      <th>imdb_votes</th>\n",
       "      <th>tmdb_popularity</th>\n",
       "      <th>tmdb_score</th>\n",
       "    </tr>\n",
       "  </thead>\n",
       "  <tbody>\n",
       "    <tr>\n",
       "      <th>0</th>\n",
       "      <td>tm74391</td>\n",
       "      <td>Fantasia</td>\n",
       "      <td>MOVIE</td>\n",
       "      <td>Walt Disney's timeless masterpiece is an extra...</td>\n",
       "      <td>1940</td>\n",
       "      <td>G</td>\n",
       "      <td>120</td>\n",
       "      <td>['animation', 'family', 'music', 'fantasy']</td>\n",
       "      <td>['US']</td>\n",
       "      <td>NaN</td>\n",
       "      <td>tt0032455</td>\n",
       "      <td>7.7</td>\n",
       "      <td>94681.0</td>\n",
       "      <td>57.751</td>\n",
       "      <td>7.4</td>\n",
       "    </tr>\n",
       "    <tr>\n",
       "      <th>1</th>\n",
       "      <td>tm67803</td>\n",
       "      <td>Snow White and the Seven Dwarfs</td>\n",
       "      <td>MOVIE</td>\n",
       "      <td>A beautiful girl, Snow White, takes refuge in ...</td>\n",
       "      <td>1937</td>\n",
       "      <td>G</td>\n",
       "      <td>83</td>\n",
       "      <td>['fantasy', 'family', 'romance', 'animation', ...</td>\n",
       "      <td>['US']</td>\n",
       "      <td>NaN</td>\n",
       "      <td>tt0029583</td>\n",
       "      <td>7.6</td>\n",
       "      <td>195321.0</td>\n",
       "      <td>107.137</td>\n",
       "      <td>7.1</td>\n",
       "    </tr>\n",
       "    <tr>\n",
       "      <th>2</th>\n",
       "      <td>tm82546</td>\n",
       "      <td>Pinocchio</td>\n",
       "      <td>MOVIE</td>\n",
       "      <td>Lonely toymaker Geppetto has his wishes answer...</td>\n",
       "      <td>1940</td>\n",
       "      <td>G</td>\n",
       "      <td>88</td>\n",
       "      <td>['animation', 'comedy', 'family', 'fantasy']</td>\n",
       "      <td>['US']</td>\n",
       "      <td>NaN</td>\n",
       "      <td>tt0032910</td>\n",
       "      <td>7.5</td>\n",
       "      <td>141937.0</td>\n",
       "      <td>71.160</td>\n",
       "      <td>7.1</td>\n",
       "    </tr>\n",
       "    <tr>\n",
       "      <th>3</th>\n",
       "      <td>tm79357</td>\n",
       "      <td>Bambi</td>\n",
       "      <td>MOVIE</td>\n",
       "      <td>Bambi's tale unfolds from season to season as ...</td>\n",
       "      <td>1942</td>\n",
       "      <td>G</td>\n",
       "      <td>70</td>\n",
       "      <td>['animation', 'drama', 'family']</td>\n",
       "      <td>['US']</td>\n",
       "      <td>NaN</td>\n",
       "      <td>tt0034492</td>\n",
       "      <td>7.3</td>\n",
       "      <td>140406.0</td>\n",
       "      <td>68.136</td>\n",
       "      <td>7.0</td>\n",
       "    </tr>\n",
       "    <tr>\n",
       "      <th>4</th>\n",
       "      <td>tm62671</td>\n",
       "      <td>Treasure Island</td>\n",
       "      <td>MOVIE</td>\n",
       "      <td>Enchanted by the idea of locating treasure bur...</td>\n",
       "      <td>1950</td>\n",
       "      <td>PG</td>\n",
       "      <td>96</td>\n",
       "      <td>['family', 'action']</td>\n",
       "      <td>['GB', 'US']</td>\n",
       "      <td>NaN</td>\n",
       "      <td>tt0043067</td>\n",
       "      <td>6.9</td>\n",
       "      <td>8229.0</td>\n",
       "      <td>10.698</td>\n",
       "      <td>6.5</td>\n",
       "    </tr>\n",
       "  </tbody>\n",
       "</table>\n",
       "</div>"
      ],
      "text/plain": [
       "        id                            title   type  \\\n",
       "0  tm74391                         Fantasia  MOVIE   \n",
       "1  tm67803  Snow White and the Seven Dwarfs  MOVIE   \n",
       "2  tm82546                        Pinocchio  MOVIE   \n",
       "3  tm79357                            Bambi  MOVIE   \n",
       "4  tm62671                  Treasure Island  MOVIE   \n",
       "\n",
       "                                         description  release_year  \\\n",
       "0  Walt Disney's timeless masterpiece is an extra...          1940   \n",
       "1  A beautiful girl, Snow White, takes refuge in ...          1937   \n",
       "2  Lonely toymaker Geppetto has his wishes answer...          1940   \n",
       "3  Bambi's tale unfolds from season to season as ...          1942   \n",
       "4  Enchanted by the idea of locating treasure bur...          1950   \n",
       "\n",
       "  age_certification  runtime  \\\n",
       "0                 G      120   \n",
       "1                 G       83   \n",
       "2                 G       88   \n",
       "3                 G       70   \n",
       "4                PG       96   \n",
       "\n",
       "                                              genres production_countries  \\\n",
       "0        ['animation', 'family', 'music', 'fantasy']               ['US']   \n",
       "1  ['fantasy', 'family', 'romance', 'animation', ...               ['US']   \n",
       "2       ['animation', 'comedy', 'family', 'fantasy']               ['US']   \n",
       "3                   ['animation', 'drama', 'family']               ['US']   \n",
       "4                               ['family', 'action']         ['GB', 'US']   \n",
       "\n",
       "   seasons    imdb_id  imdb_score  imdb_votes  tmdb_popularity  tmdb_score  \n",
       "0      NaN  tt0032455         7.7     94681.0           57.751         7.4  \n",
       "1      NaN  tt0029583         7.6    195321.0          107.137         7.1  \n",
       "2      NaN  tt0032910         7.5    141937.0           71.160         7.1  \n",
       "3      NaN  tt0034492         7.3    140406.0           68.136         7.0  \n",
       "4      NaN  tt0043067         6.9      8229.0           10.698         6.5  "
      ]
     },
     "execution_count": 20,
     "metadata": {},
     "output_type": "execute_result"
    }
   ],
   "source": [
    "df.head()"
   ]
  },
  {
   "cell_type": "code",
   "execution_count": 21,
   "id": "2daa8099-a186-4ea8-a3b7-faa1d83a529c",
   "metadata": {},
   "outputs": [
    {
     "data": {
      "text/html": [
       "<div>\n",
       "<style scoped>\n",
       "    .dataframe tbody tr th:only-of-type {\n",
       "        vertical-align: middle;\n",
       "    }\n",
       "\n",
       "    .dataframe tbody tr th {\n",
       "        vertical-align: top;\n",
       "    }\n",
       "\n",
       "    .dataframe thead th {\n",
       "        text-align: right;\n",
       "    }\n",
       "</style>\n",
       "<table border=\"1\" class=\"dataframe\">\n",
       "  <thead>\n",
       "    <tr style=\"text-align: right;\">\n",
       "      <th></th>\n",
       "      <th>id</th>\n",
       "      <th>title</th>\n",
       "      <th>type</th>\n",
       "      <th>description</th>\n",
       "      <th>release_year</th>\n",
       "      <th>age_certification</th>\n",
       "      <th>runtime</th>\n",
       "      <th>genres</th>\n",
       "      <th>production_countries</th>\n",
       "      <th>seasons</th>\n",
       "      <th>imdb_id</th>\n",
       "      <th>imdb_score</th>\n",
       "      <th>imdb_votes</th>\n",
       "      <th>tmdb_popularity</th>\n",
       "      <th>tmdb_score</th>\n",
       "    </tr>\n",
       "  </thead>\n",
       "  <tbody>\n",
       "    <tr>\n",
       "      <th>86</th>\n",
       "      <td>ts22470</td>\n",
       "      <td>The Muppet Show</td>\n",
       "      <td>SHOW</td>\n",
       "      <td>Go behind the curtains as Kermit the Frog and ...</td>\n",
       "      <td>1976</td>\n",
       "      <td>TV-G</td>\n",
       "      <td>25</td>\n",
       "      <td>['comedy', 'family', 'music']</td>\n",
       "      <td>['GB']</td>\n",
       "      <td>5.0</td>\n",
       "      <td>tt0074028</td>\n",
       "      <td>8.4</td>\n",
       "      <td>24278.0</td>\n",
       "      <td>12.641</td>\n",
       "      <td>8.1</td>\n",
       "    </tr>\n",
       "    <tr>\n",
       "      <th>109</th>\n",
       "      <td>ts28051</td>\n",
       "      <td>The Mickey Mouse Club</td>\n",
       "      <td>SHOW</td>\n",
       "      <td>A variety show featuring a cast of child perfo...</td>\n",
       "      <td>1955</td>\n",
       "      <td>TV-PG</td>\n",
       "      <td>31</td>\n",
       "      <td>['family', 'music', 'comedy', 'drama']</td>\n",
       "      <td>['US']</td>\n",
       "      <td>3.0</td>\n",
       "      <td>tt0047757</td>\n",
       "      <td>7.6</td>\n",
       "      <td>779.0</td>\n",
       "      <td>7.194</td>\n",
       "      <td>5.8</td>\n",
       "    </tr>\n",
       "    <tr>\n",
       "      <th>120</th>\n",
       "      <td>ts24939</td>\n",
       "      <td>Spider-Woman</td>\n",
       "      <td>SHOW</td>\n",
       "      <td>When Jessica Drew was bitten by a poisonous sp...</td>\n",
       "      <td>1979</td>\n",
       "      <td>TV-PG</td>\n",
       "      <td>21</td>\n",
       "      <td>['animation', 'fantasy', 'action', 'family']</td>\n",
       "      <td>['US']</td>\n",
       "      <td>1.0</td>\n",
       "      <td>tt0197911</td>\n",
       "      <td>5.8</td>\n",
       "      <td>790.0</td>\n",
       "      <td>19.081</td>\n",
       "      <td>8.0</td>\n",
       "    </tr>\n",
       "    <tr>\n",
       "      <th>204</th>\n",
       "      <td>ts20711</td>\n",
       "      <td>The Simpsons</td>\n",
       "      <td>SHOW</td>\n",
       "      <td>The satiric adventures of a working-class fami...</td>\n",
       "      <td>1989</td>\n",
       "      <td>TV-14</td>\n",
       "      <td>27</td>\n",
       "      <td>['animation', 'comedy']</td>\n",
       "      <td>['US']</td>\n",
       "      <td>34.0</td>\n",
       "      <td>tt0096697</td>\n",
       "      <td>8.7</td>\n",
       "      <td>394764.0</td>\n",
       "      <td>516.381</td>\n",
       "      <td>7.9</td>\n",
       "    </tr>\n",
       "    <tr>\n",
       "      <th>208</th>\n",
       "      <td>ts15377</td>\n",
       "      <td>America's Funniest Home Videos</td>\n",
       "      <td>SHOW</td>\n",
       "      <td>America's Funniest Home Videos is the longest-...</td>\n",
       "      <td>1989</td>\n",
       "      <td>TV-PG</td>\n",
       "      <td>49</td>\n",
       "      <td>['family', 'reality', 'comedy']</td>\n",
       "      <td>['US']</td>\n",
       "      <td>32.0</td>\n",
       "      <td>tt0098740</td>\n",
       "      <td>6.2</td>\n",
       "      <td>5356.0</td>\n",
       "      <td>18.117</td>\n",
       "      <td>7.0</td>\n",
       "    </tr>\n",
       "    <tr>\n",
       "      <th>...</th>\n",
       "      <td>...</td>\n",
       "      <td>...</td>\n",
       "      <td>...</td>\n",
       "      <td>...</td>\n",
       "      <td>...</td>\n",
       "      <td>...</td>\n",
       "      <td>...</td>\n",
       "      <td>...</td>\n",
       "      <td>...</td>\n",
       "      <td>...</td>\n",
       "      <td>...</td>\n",
       "      <td>...</td>\n",
       "      <td>...</td>\n",
       "      <td>...</td>\n",
       "      <td>...</td>\n",
       "    </tr>\n",
       "    <tr>\n",
       "      <th>1481</th>\n",
       "      <td>ts280067</td>\n",
       "      <td>Growing Up Animal</td>\n",
       "      <td>SHOW</td>\n",
       "      <td>Follows the story of baby animals from their t...</td>\n",
       "      <td>2021</td>\n",
       "      <td>TV-G</td>\n",
       "      <td>2</td>\n",
       "      <td>['documentation']</td>\n",
       "      <td>['US']</td>\n",
       "      <td>1.0</td>\n",
       "      <td>tt13891272</td>\n",
       "      <td>8.3</td>\n",
       "      <td>94.0</td>\n",
       "      <td>3.339</td>\n",
       "      <td>7.0</td>\n",
       "    </tr>\n",
       "    <tr>\n",
       "      <th>1491</th>\n",
       "      <td>ts293637</td>\n",
       "      <td>Disney's Magic Bake-Off</td>\n",
       "      <td>SHOW</td>\n",
       "      <td>Splitting the kids between the ages of 6 and 1...</td>\n",
       "      <td>2021</td>\n",
       "      <td>TV-Y</td>\n",
       "      <td>46</td>\n",
       "      <td>['family', 'reality']</td>\n",
       "      <td>['US']</td>\n",
       "      <td>1.0</td>\n",
       "      <td>tt14539670</td>\n",
       "      <td>5.7</td>\n",
       "      <td>66.0</td>\n",
       "      <td>1.643</td>\n",
       "      <td>8.0</td>\n",
       "    </tr>\n",
       "    <tr>\n",
       "      <th>1494</th>\n",
       "      <td>ts296175</td>\n",
       "      <td>Shark Attack Files</td>\n",
       "      <td>SHOW</td>\n",
       "      <td>Scientific experts research about the bizarre ...</td>\n",
       "      <td>2021</td>\n",
       "      <td>TV-14</td>\n",
       "      <td>42</td>\n",
       "      <td>['documentation']</td>\n",
       "      <td>['US']</td>\n",
       "      <td>1.0</td>\n",
       "      <td>tt14811706</td>\n",
       "      <td>6.4</td>\n",
       "      <td>22.0</td>\n",
       "      <td>1.665</td>\n",
       "      <td>10.0</td>\n",
       "    </tr>\n",
       "    <tr>\n",
       "      <th>1497</th>\n",
       "      <td>ts269588</td>\n",
       "      <td>Pixar Popcorn</td>\n",
       "      <td>SHOW</td>\n",
       "      <td>A collection of mini shorts starring some of y...</td>\n",
       "      <td>2021</td>\n",
       "      <td>TV-G</td>\n",
       "      <td>4</td>\n",
       "      <td>['comedy', 'family', 'animation']</td>\n",
       "      <td>['US']</td>\n",
       "      <td>1.0</td>\n",
       "      <td>tt13634444</td>\n",
       "      <td>6.5</td>\n",
       "      <td>1932.0</td>\n",
       "      <td>11.805</td>\n",
       "      <td>7.4</td>\n",
       "    </tr>\n",
       "    <tr>\n",
       "      <th>1509</th>\n",
       "      <td>ts273161</td>\n",
       "      <td>Foodtastic</td>\n",
       "      <td>SHOW</td>\n",
       "      <td>Three teams of food artists transform iconic c...</td>\n",
       "      <td>2021</td>\n",
       "      <td>TV-PG</td>\n",
       "      <td>42</td>\n",
       "      <td>['reality']</td>\n",
       "      <td>['US']</td>\n",
       "      <td>1.0</td>\n",
       "      <td>tt13644666</td>\n",
       "      <td>4.8</td>\n",
       "      <td>155.0</td>\n",
       "      <td>2.344</td>\n",
       "      <td>1.0</td>\n",
       "    </tr>\n",
       "  </tbody>\n",
       "</table>\n",
       "<p>291 rows × 15 columns</p>\n",
       "</div>"
      ],
      "text/plain": [
       "            id                           title  type  \\\n",
       "86     ts22470                 The Muppet Show  SHOW   \n",
       "109    ts28051           The Mickey Mouse Club  SHOW   \n",
       "120    ts24939                    Spider-Woman  SHOW   \n",
       "204    ts20711                    The Simpsons  SHOW   \n",
       "208    ts15377  America's Funniest Home Videos  SHOW   \n",
       "...        ...                             ...   ...   \n",
       "1481  ts280067               Growing Up Animal  SHOW   \n",
       "1491  ts293637         Disney's Magic Bake-Off  SHOW   \n",
       "1494  ts296175              Shark Attack Files  SHOW   \n",
       "1497  ts269588                   Pixar Popcorn  SHOW   \n",
       "1509  ts273161                      Foodtastic  SHOW   \n",
       "\n",
       "                                            description  release_year  \\\n",
       "86    Go behind the curtains as Kermit the Frog and ...          1976   \n",
       "109   A variety show featuring a cast of child perfo...          1955   \n",
       "120   When Jessica Drew was bitten by a poisonous sp...          1979   \n",
       "204   The satiric adventures of a working-class fami...          1989   \n",
       "208   America's Funniest Home Videos is the longest-...          1989   \n",
       "...                                                 ...           ...   \n",
       "1481  Follows the story of baby animals from their t...          2021   \n",
       "1491  Splitting the kids between the ages of 6 and 1...          2021   \n",
       "1494  Scientific experts research about the bizarre ...          2021   \n",
       "1497  A collection of mini shorts starring some of y...          2021   \n",
       "1509  Three teams of food artists transform iconic c...          2021   \n",
       "\n",
       "     age_certification  runtime                                        genres  \\\n",
       "86                TV-G       25                 ['comedy', 'family', 'music']   \n",
       "109              TV-PG       31        ['family', 'music', 'comedy', 'drama']   \n",
       "120              TV-PG       21  ['animation', 'fantasy', 'action', 'family']   \n",
       "204              TV-14       27                       ['animation', 'comedy']   \n",
       "208              TV-PG       49               ['family', 'reality', 'comedy']   \n",
       "...                ...      ...                                           ...   \n",
       "1481              TV-G        2                             ['documentation']   \n",
       "1491              TV-Y       46                         ['family', 'reality']   \n",
       "1494             TV-14       42                             ['documentation']   \n",
       "1497              TV-G        4             ['comedy', 'family', 'animation']   \n",
       "1509             TV-PG       42                                   ['reality']   \n",
       "\n",
       "     production_countries  seasons     imdb_id  imdb_score  imdb_votes  \\\n",
       "86                 ['GB']      5.0   tt0074028         8.4     24278.0   \n",
       "109                ['US']      3.0   tt0047757         7.6       779.0   \n",
       "120                ['US']      1.0   tt0197911         5.8       790.0   \n",
       "204                ['US']     34.0   tt0096697         8.7    394764.0   \n",
       "208                ['US']     32.0   tt0098740         6.2      5356.0   \n",
       "...                   ...      ...         ...         ...         ...   \n",
       "1481               ['US']      1.0  tt13891272         8.3        94.0   \n",
       "1491               ['US']      1.0  tt14539670         5.7        66.0   \n",
       "1494               ['US']      1.0  tt14811706         6.4        22.0   \n",
       "1497               ['US']      1.0  tt13634444         6.5      1932.0   \n",
       "1509               ['US']      1.0  tt13644666         4.8       155.0   \n",
       "\n",
       "      tmdb_popularity  tmdb_score  \n",
       "86             12.641         8.1  \n",
       "109             7.194         5.8  \n",
       "120            19.081         8.0  \n",
       "204           516.381         7.9  \n",
       "208            18.117         7.0  \n",
       "...               ...         ...  \n",
       "1481            3.339         7.0  \n",
       "1491            1.643         8.0  \n",
       "1494            1.665        10.0  \n",
       "1497           11.805         7.4  \n",
       "1509            2.344         1.0  \n",
       "\n",
       "[291 rows x 15 columns]"
      ]
     },
     "execution_count": 21,
     "metadata": {},
     "output_type": "execute_result"
    }
   ],
   "source": [
    "df=df.drop_duplicates(subset=['title'])\n",
    "df.dropna()"
   ]
  },
  {
   "cell_type": "code",
   "execution_count": 22,
   "id": "b3c6a3c6-1b97-4663-beea-820ccb3edac6",
   "metadata": {},
   "outputs": [
    {
     "data": {
      "text/plain": [
       "(1500, 15)"
      ]
     },
     "execution_count": 22,
     "metadata": {},
     "output_type": "execute_result"
    }
   ],
   "source": [
    "df.shape"
   ]
  },
  {
   "cell_type": "code",
   "execution_count": 23,
   "id": "da3719c2",
   "metadata": {},
   "outputs": [
    {
     "data": {
      "text/plain": [
       "Index(['id', 'title', 'type', 'description', 'release_year',\n",
       "       'age_certification', 'runtime', 'genres', 'production_countries',\n",
       "       'seasons', 'imdb_id', 'imdb_score', 'imdb_votes', 'tmdb_popularity',\n",
       "       'tmdb_score'],\n",
       "      dtype='object')"
      ]
     },
     "execution_count": 23,
     "metadata": {},
     "output_type": "execute_result"
    }
   ],
   "source": [
    "df.columns"
   ]
  },
  {
   "cell_type": "code",
   "execution_count": 24,
   "id": "5a0d60f7-2cce-4f3c-a45f-faeac60954a9",
   "metadata": {},
   "outputs": [
    {
     "data": {
      "text/html": [
       "<div>\n",
       "<style scoped>\n",
       "    .dataframe tbody tr th:only-of-type {\n",
       "        vertical-align: middle;\n",
       "    }\n",
       "\n",
       "    .dataframe tbody tr th {\n",
       "        vertical-align: top;\n",
       "    }\n",
       "\n",
       "    .dataframe thead th {\n",
       "        text-align: right;\n",
       "    }\n",
       "</style>\n",
       "<table border=\"1\" class=\"dataframe\">\n",
       "  <thead>\n",
       "    <tr style=\"text-align: right;\">\n",
       "      <th></th>\n",
       "      <th>imdb rating</th>\n",
       "    </tr>\n",
       "    <tr>\n",
       "      <th>title</th>\n",
       "      <th></th>\n",
       "    </tr>\n",
       "  </thead>\n",
       "  <tbody>\n",
       "    <tr>\n",
       "      <th>Bluey</th>\n",
       "      <td>9.7</td>\n",
       "    </tr>\n",
       "    <tr>\n",
       "      <th>The Wizard of Paws</th>\n",
       "      <td>9.4</td>\n",
       "    </tr>\n",
       "    <tr>\n",
       "      <th>Cosmos: A Spacetime Odyssey</th>\n",
       "      <td>9.3</td>\n",
       "    </tr>\n",
       "    <tr>\n",
       "      <th>Cosmos: Possible Worlds</th>\n",
       "      <td>9.1</td>\n",
       "    </tr>\n",
       "    <tr>\n",
       "      <th>Alaska Animal Rescue</th>\n",
       "      <td>9.0</td>\n",
       "    </tr>\n",
       "  </tbody>\n",
       "</table>\n",
       "</div>"
      ],
      "text/plain": [
       "                             imdb rating\n",
       "title                                   \n",
       "Bluey                                9.7\n",
       "The Wizard of Paws                   9.4\n",
       "Cosmos: A Spacetime Odyssey          9.3\n",
       "Cosmos: Possible Worlds              9.1\n",
       "Alaska Animal Rescue                 9.0"
      ]
     },
     "execution_count": 24,
     "metadata": {},
     "output_type": "execute_result"
    }
   ],
   "source": [
    "top5_rating = df.sort_values(by='imdb_score', ascending = False, ignore_index=True).head()\n",
    "pd.DataFrame(list(zip(top5_rating['title'],top5_rating['imdb_score'])),columns=['title','imdb rating']).set_index('title')"
   ]
  },
  {
   "cell_type": "code",
   "execution_count": 25,
   "id": "1e541d6b-1f90-4f87-8123-4d9aa188b085",
   "metadata": {},
   "outputs": [
    {
     "data": {
      "text/html": [
       "<div>\n",
       "<style scoped>\n",
       "    .dataframe tbody tr th:only-of-type {\n",
       "        vertical-align: middle;\n",
       "    }\n",
       "\n",
       "    .dataframe tbody tr th {\n",
       "        vertical-align: top;\n",
       "    }\n",
       "\n",
       "    .dataframe thead th {\n",
       "        text-align: right;\n",
       "    }\n",
       "</style>\n",
       "<table border=\"1\" class=\"dataframe\">\n",
       "  <thead>\n",
       "    <tr style=\"text-align: right;\">\n",
       "      <th></th>\n",
       "      <th>imdb_score</th>\n",
       "    </tr>\n",
       "    <tr>\n",
       "      <th>type</th>\n",
       "      <th></th>\n",
       "    </tr>\n",
       "  </thead>\n",
       "  <tbody>\n",
       "    <tr>\n",
       "      <th>MOVIE</th>\n",
       "      <td>6.5</td>\n",
       "    </tr>\n",
       "    <tr>\n",
       "      <th>SHOW</th>\n",
       "      <td>7.0</td>\n",
       "    </tr>\n",
       "  </tbody>\n",
       "</table>\n",
       "</div>"
      ],
      "text/plain": [
       "       imdb_score\n",
       "type             \n",
       "MOVIE         6.5\n",
       "SHOW          7.0"
      ]
     },
     "execution_count": 25,
     "metadata": {},
     "output_type": "execute_result"
    }
   ],
   "source": [
    "#median of imdb score\n",
    "pd.DataFrame(df.groupby('type')['imdb_score'].median())"
   ]
  },
  {
   "cell_type": "code",
   "execution_count": 31,
   "id": "c48b017f-3a26-4750-9374-ec5ea1cf8216",
   "metadata": {},
   "outputs": [
    {
     "data": {
      "text/html": [
       "<div>\n",
       "<style scoped>\n",
       "    .dataframe tbody tr th:only-of-type {\n",
       "        vertical-align: middle;\n",
       "    }\n",
       "\n",
       "    .dataframe tbody tr th {\n",
       "        vertical-align: top;\n",
       "    }\n",
       "\n",
       "    .dataframe thead th {\n",
       "        text-align: right;\n",
       "    }\n",
       "</style>\n",
       "<table border=\"1\" class=\"dataframe\">\n",
       "  <thead>\n",
       "    <tr style=\"text-align: right;\">\n",
       "      <th></th>\n",
       "      <th>country</th>\n",
       "      <th>movies</th>\n",
       "      <th>shows</th>\n",
       "    </tr>\n",
       "  </thead>\n",
       "  <tbody>\n",
       "    <tr>\n",
       "      <th>0</th>\n",
       "      <td>from 1930 to 1940</td>\n",
       "      <td>35</td>\n",
       "      <td>0</td>\n",
       "    </tr>\n",
       "    <tr>\n",
       "      <th>1</th>\n",
       "      <td>from 1940 to 1950</td>\n",
       "      <td>42</td>\n",
       "      <td>0</td>\n",
       "    </tr>\n",
       "    <tr>\n",
       "      <th>2</th>\n",
       "      <td>from 1950 to 1960</td>\n",
       "      <td>51</td>\n",
       "      <td>2</td>\n",
       "    </tr>\n",
       "    <tr>\n",
       "      <th>3</th>\n",
       "      <td>from 1960 to 1970</td>\n",
       "      <td>28</td>\n",
       "      <td>0</td>\n",
       "    </tr>\n",
       "    <tr>\n",
       "      <th>4</th>\n",
       "      <td>from 1970 to 1980</td>\n",
       "      <td>36</td>\n",
       "      <td>3</td>\n",
       "    </tr>\n",
       "    <tr>\n",
       "      <th>5</th>\n",
       "      <td>from 1980 to 1990</td>\n",
       "      <td>44</td>\n",
       "      <td>10</td>\n",
       "    </tr>\n",
       "    <tr>\n",
       "      <th>6</th>\n",
       "      <td>from 1990 to 2000</td>\n",
       "      <td>110</td>\n",
       "      <td>25</td>\n",
       "    </tr>\n",
       "    <tr>\n",
       "      <th>7</th>\n",
       "      <td>from 2000 to 2010</td>\n",
       "      <td>241</td>\n",
       "      <td>38</td>\n",
       "    </tr>\n",
       "    <tr>\n",
       "      <th>8</th>\n",
       "      <td>from 2010 to 2020</td>\n",
       "      <td>330</td>\n",
       "      <td>211</td>\n",
       "    </tr>\n",
       "    <tr>\n",
       "      <th>9</th>\n",
       "      <td>from 2020 to 2030</td>\n",
       "      <td>175</td>\n",
       "      <td>118</td>\n",
       "    </tr>\n",
       "  </tbody>\n",
       "</table>\n",
       "</div>"
      ],
      "text/plain": [
       "             country  movies  shows\n",
       "0  from 1930 to 1940      35      0\n",
       "1  from 1940 to 1950      42      0\n",
       "2  from 1950 to 1960      51      2\n",
       "3  from 1960 to 1970      28      0\n",
       "4  from 1970 to 1980      36      3\n",
       "5  from 1980 to 1990      44     10\n",
       "6  from 1990 to 2000     110     25\n",
       "7  from 2000 to 2010     241     38\n",
       "8  from 2010 to 2020     330    211\n",
       "9  from 2020 to 2030     175    118"
      ]
     },
     "execution_count": 31,
     "metadata": {},
     "output_type": "execute_result"
    }
   ],
   "source": [
    "# visualization of movie and show\n",
    "col_name=[]\n",
    "movies=[]\n",
    "shows=[]\n",
    "for i in range(1930,2030,10):\n",
    "    q=\"from \"+str(i)+\" to \"+str(i+10) \n",
    "    #the line q=\"from \"+str(i)+\" to \"+str(i+10) creates a string q that represents a range of years from i to i+10.\n",
    "    # str(i) converts the integer i to a string.#str(i+10) converts the integer i+10 to a string.\n",
    "    \n",
    "    col_name.append(q)\n",
    "    # This line of code appends the string q, which represents a decade range (e.g., \"from 1930 to 1940\"), to the list col_name. This list is used to store the labels for each decade range.\n",
    "    \n",
    "    movies.append(df[(df['release_year']>=i) & (df['release_year']<i+10)&(df['type']=='MOVIE')]['id'].count())\n",
    "    \n",
    "    # df['release_year']>=i and df1['release_year']<i+10 filter the DataFrame df1 to include only rows where the release_year is greater than or equal to i and less than i+10. \n",
    "    # This effectively filters the data to include only movies released within the current decade \n",
    "    # (df['type']=='MOVIE') further filters the DataFrame to include only rows where the type column is 'MOVIE', ensuring that only movies are counted.\n",
    "    # ['id'].count() calculates the number of rows (movies) in the filtered DataFrame and returns the count of movie IDs.\n",
    "    \n",
    "    shows.append(df[(df['release_year']>=i) & (df['release_year']<i+10)&(df['type']=='SHOW')]['id'].count())\n",
    "    # same thing with shows, refer to the #s above for explanation of this line of code. \n",
    "\n",
    "m_a_s = pd.DataFrame(list(zip(col_name, movies,shows)),columns=['country','movies','shows'])\n",
    "#zip combime col_name and movies and shows list into tuples, and each tuple contains one element from each list.\n",
    "#Each tuple becomes a row in the DataFrame, with the first element of the tuple assigned to the 'country' column, \n",
    "#the second to the 'movies' column, and the third to the 'shows' column.\n",
    "\n",
    "m_a_s"
   ]
  },
  {
   "cell_type": "code",
   "execution_count": 32,
   "id": "d071b809-8fdc-4e3b-a388-c54cc8a61692",
   "metadata": {},
   "outputs": [
    {
     "name": "stderr",
     "output_type": "stream",
     "text": [
      "/Users/henrylu/anaconda3/lib/python3.11/site-packages/plotly/express/_core.py:1979: FutureWarning:\n",
      "\n",
      "When grouping with a length-1 list-like, you will need to pass a length-1 tuple to get_group in a future version of pandas. Pass `(name,)` instead of `name` to silence this warning.\n",
      "\n"
     ]
    },
    {
     "data": {
      "application/vnd.plotly.v1+json": {
       "config": {
        "plotlyServerURL": "https://plot.ly"
       },
       "data": [
        {
         "alignmentgroup": "True",
         "bingroup": "x",
         "hovertemplate": "type=MOVIE<br>release_year=%{x}<br>count=%{y}<extra></extra>",
         "legendgroup": "MOVIE",
         "marker": {
          "color": "#636efa",
          "pattern": {
           "shape": ""
          }
         },
         "name": "MOVIE",
         "offsetgroup": "MOVIE",
         "orientation": "v",
         "showlegend": true,
         "type": "histogram",
         "x": [
          1940,
          1937,
          1940,
          1942,
          1950,
          1949,
          1950,
          1941,
          1944,
          1941,
          1947,
          1928,
          1942,
          1942,
          1948,
          1938,
          1933,
          1940,
          1932,
          1940,
          1950,
          1939,
          1933,
          1937,
          1934,
          1936,
          1934,
          1944,
          1936,
          1932,
          1942,
          1937,
          1939,
          1942,
          1947,
          1934,
          1935,
          1938,
          1937,
          1947,
          1941,
          1942,
          1950,
          1941,
          1938,
          1943,
          1935,
          1938,
          1939,
          1935,
          1935,
          1937,
          1948,
          1936,
          1948,
          1940,
          1946,
          1934,
          1941,
          1947,
          1948,
          1936,
          1939,
          1949,
          1939,
          1933,
          1937,
          1932,
          1949,
          1949,
          1942,
          1946,
          1936,
          1941,
          1949,
          1940,
          1941,
          1941,
          1950,
          1950,
          1947,
          1940,
          1948,
          1936,
          1965,
          1977,
          1964,
          1979,
          1955,
          1969,
          1954,
          1980,
          1979,
          1951,
          1970,
          1961,
          1973,
          1963,
          1953,
          1971,
          1957,
          1967,
          1959,
          1955,
          1977,
          1968,
          1977,
          1961,
          1959,
          1961,
          1977,
          1975,
          1976,
          1975,
          1959,
          1959,
          1960,
          1961,
          1965,
          1974,
          1977,
          1969,
          1978,
          1958,
          1968,
          1952,
          1952,
          1967,
          1976,
          1963,
          1962,
          1972,
          1964,
          1955,
          1977,
          1966,
          1967,
          1961,
          1975,
          1976,
          1978,
          1959,
          1979,
          1974,
          1976,
          1957,
          1979,
          1972,
          1971,
          1974,
          1964,
          1953,
          1980,
          1954,
          1978,
          1971,
          1963,
          1956,
          1955,
          1956,
          1978,
          1962,
          1959,
          1972,
          1977,
          1952,
          1965,
          1974,
          1975,
          1962,
          1953,
          1954,
          1952,
          1957,
          1980,
          1955,
          1952,
          1957,
          1952,
          1956,
          1955,
          1951,
          1955,
          1953,
          1953,
          1953,
          1969,
          1955,
          1952,
          1951,
          1980,
          1951,
          1954,
          1977,
          1952,
          1955,
          1966,
          1987,
          1990,
          1988,
          1988,
          1987,
          1985,
          1990,
          1989,
          1984,
          1986,
          1982,
          1987,
          1985,
          1983,
          1989,
          1988,
          1981,
          1985,
          1984,
          1986,
          1989,
          1988,
          1988,
          1985,
          1990,
          1981,
          1990,
          1984,
          1990,
          1990,
          1987,
          1983,
          1981,
          1986,
          1989,
          1985,
          1986,
          1986,
          1987,
          1989,
          1988,
          1986,
          1984,
          1989,
          1986,
          1987,
          1999,
          2000,
          1993,
          1999,
          2000,
          1995,
          1995,
          1995,
          1991,
          1992,
          1997,
          2000,
          1996,
          1993,
          1999,
          1999,
          1993,
          1993,
          1993,
          1992,
          1995,
          1994,
          1994,
          1992,
          1998,
          1992,
          1999,
          1997,
          1998,
          1996,
          1991,
          1996,
          1997,
          1995,
          1999,
          1993,
          1994,
          1992,
          1993,
          1999,
          1991,
          1994,
          1995,
          2000,
          1992,
          2000,
          1997,
          1997,
          1999,
          1995,
          1996,
          1994,
          1996,
          1995,
          1993,
          1996,
          1999,
          1997,
          1998,
          1994,
          1992,
          1994,
          1995,
          1991,
          1996,
          1996,
          1999,
          1995,
          1995,
          1997,
          1998,
          1998,
          1999,
          1994,
          1998,
          1996,
          2000,
          1998,
          1999,
          1996,
          1997,
          1995,
          1993,
          1994,
          2000,
          1994,
          1997,
          2000,
          1999,
          2000,
          1998,
          1999,
          1999,
          1998,
          1997,
          1999,
          1998,
          1999,
          2000,
          1999,
          1997,
          1999,
          1995,
          1999,
          1998,
          2000,
          1998,
          1998,
          2000,
          1999,
          1998,
          2000,
          1997,
          1998,
          2000,
          2000,
          1998,
          2000,
          1993,
          2000,
          2000,
          2000,
          2000,
          2000,
          2000,
          1991,
          2003,
          2009,
          2004,
          2009,
          2006,
          2010,
          2007,
          2006,
          2003,
          2005,
          2008,
          2002,
          2001,
          2010,
          2010,
          2007,
          2007,
          2007,
          2002,
          2003,
          2004,
          2009,
          2010,
          2004,
          2007,
          2003,
          2009,
          2007,
          2009,
          2005,
          2010,
          2010,
          2003,
          2008,
          2010,
          2006,
          2007,
          2001,
          2002,
          2004,
          2009,
          2002,
          2005,
          2001,
          2006,
          2005,
          2005,
          2007,
          2005,
          2005,
          2006,
          2010,
          2010,
          2002,
          2008,
          2010,
          2008,
          2010,
          2006,
          2006,
          2005,
          2009,
          2006,
          2004,
          2003,
          2010,
          2010,
          2009,
          2004,
          2005,
          2008,
          2006,
          2009,
          2002,
          2002,
          2004,
          2003,
          2007,
          2010,
          2006,
          2009,
          2010,
          2003,
          2006,
          2005,
          2007,
          2006,
          2007,
          2003,
          2004,
          2006,
          2008,
          2007,
          2002,
          2010,
          2002,
          2002,
          2004,
          2008,
          2008,
          2009,
          2004,
          2008,
          2008,
          2005,
          2010,
          2005,
          2004,
          2008,
          2006,
          2005,
          2005,
          2002,
          2010,
          2001,
          2004,
          2006,
          2008,
          2009,
          2002,
          2004,
          2003,
          2009,
          2010,
          2005,
          2005,
          2001,
          2002,
          2005,
          2009,
          2007,
          2008,
          2005,
          2001,
          2005,
          2008,
          2010,
          2009,
          2010,
          2009,
          2003,
          2006,
          2010,
          2003,
          2003,
          2003,
          2001,
          2003,
          2002,
          2009,
          2010,
          2001,
          2001,
          2002,
          2009,
          2002,
          2007,
          2004,
          2006,
          2007,
          2006,
          2002,
          2002,
          2010,
          2005,
          2006,
          2004,
          2008,
          2006,
          2005,
          2009,
          2006,
          2005,
          2006,
          2003,
          2008,
          2002,
          2005,
          2008,
          2002,
          2009,
          2006,
          2009,
          2008,
          2004,
          2002,
          2007,
          2006,
          2009,
          2010,
          2007,
          2003,
          2006,
          2008,
          2010,
          2008,
          2002,
          2003,
          2002,
          2009,
          2002,
          2003,
          2010,
          2009,
          2001,
          2008,
          2009,
          2008,
          2001,
          2003,
          2007,
          2008,
          2005,
          2003,
          2005,
          2007,
          2006,
          2009,
          2010,
          2010,
          2004,
          2003,
          2006,
          2003,
          2009,
          2001,
          2005,
          2008,
          2005,
          2006,
          2010,
          2004,
          2009,
          2003,
          2004,
          2001,
          2007,
          2010,
          2004,
          2009,
          2008,
          2003,
          2002,
          2005,
          2001,
          2001,
          2009,
          2009,
          2010,
          2004,
          2009,
          2011,
          2011,
          2012,
          2011,
          2012,
          2011,
          2012,
          2012,
          2012,
          2011,
          2011,
          2012,
          2011,
          2011,
          2012,
          2011,
          2012,
          2011,
          2011,
          2012,
          2011,
          2011,
          2012,
          2011,
          2012,
          2011,
          2011,
          2012,
          2012,
          2011,
          2011,
          2011,
          2012,
          2011,
          2012,
          2011,
          2012,
          2011,
          2012,
          2011,
          2012,
          2012,
          2011,
          2012,
          2011,
          2011,
          2012,
          2012,
          2011,
          2011,
          2012,
          2012,
          2012,
          2012,
          2011,
          2012,
          2011,
          2011,
          2011,
          2012,
          2012,
          2012,
          2011,
          2011,
          2012,
          2012,
          2014,
          2014,
          2014,
          2014,
          2014,
          2014,
          2013,
          2014,
          2013,
          2013,
          2014,
          2013,
          2014,
          2013,
          2014,
          2013,
          2014,
          2013,
          2013,
          2014,
          2014,
          2013,
          2013,
          2014,
          2014,
          2014,
          2014,
          2014,
          2014,
          2014,
          2014,
          2014,
          2013,
          2014,
          2014,
          2014,
          2013,
          2013,
          2014,
          2014,
          2014,
          2013,
          2014,
          2013,
          2013,
          2014,
          2013,
          2013,
          2013,
          2014,
          2014,
          2014,
          2013,
          2014,
          2013,
          2013,
          2014,
          2014,
          2014,
          2013,
          2013,
          2014,
          2016,
          2016,
          2016,
          2015,
          2016,
          2016,
          2016,
          2016,
          2016,
          2015,
          2016,
          2015,
          2015,
          2015,
          2016,
          2015,
          2015,
          2015,
          2016,
          2016,
          2016,
          2016,
          2016,
          2016,
          2016,
          2016,
          2015,
          2015,
          2016,
          2015,
          2015,
          2016,
          2015,
          2016,
          2015,
          2016,
          2016,
          2015,
          2015,
          2015,
          2015,
          2016,
          2016,
          2015,
          2015,
          2016,
          2016,
          2016,
          2016,
          2015,
          2015,
          2016,
          2016,
          2015,
          2015,
          2016,
          2015,
          2017,
          2018,
          2018,
          2017,
          2017,
          2017,
          2018,
          2018,
          2018,
          2017,
          2018,
          2018,
          2018,
          2017,
          2018,
          2017,
          2018,
          2018,
          2017,
          2017,
          2018,
          2017,
          2018,
          2018,
          2017,
          2017,
          2017,
          2018,
          2018,
          2017,
          2017,
          2017,
          2017,
          2017,
          2018,
          2018,
          2018,
          2017,
          2017,
          2018,
          2017,
          2018,
          2017,
          2017,
          2018,
          2018,
          2017,
          2018,
          2017,
          2017,
          2018,
          2018,
          2017,
          2018,
          2017,
          2017,
          2018,
          2018,
          2017,
          2017,
          2018,
          2018,
          2017,
          2018,
          2018,
          2017,
          2020,
          2019,
          2019,
          2020,
          2019,
          2019,
          2020,
          2019,
          2019,
          2019,
          2020,
          2019,
          2020,
          2019,
          2019,
          2020,
          2020,
          2020,
          2020,
          2020,
          2020,
          2020,
          2020,
          2020,
          2019,
          2020,
          2020,
          2020,
          2020,
          2020,
          2020,
          2020,
          2020,
          2020,
          2020,
          2020,
          2019,
          2020,
          2019,
          2019,
          2020,
          2019,
          2020,
          2020,
          2019,
          2019,
          2019,
          2020,
          2020,
          2020,
          2020,
          2019,
          2020,
          2019,
          2019,
          2020,
          2020,
          2020,
          2020,
          2020,
          2020,
          2019,
          2020,
          2019,
          2019,
          2019,
          2019,
          2019,
          2019,
          2020,
          2019,
          2020,
          2020,
          2019,
          2020,
          2020,
          2019,
          2020,
          2019,
          2019,
          2019,
          2019,
          2019,
          2019,
          2019,
          2019,
          2020,
          2020,
          2019,
          2020,
          2020,
          2020,
          2020,
          2020,
          2019,
          2019,
          2019,
          2019,
          2019,
          2020,
          2020,
          2019,
          2019,
          2020,
          2020,
          2020,
          2020,
          2020,
          2020,
          2020,
          2020,
          2020,
          2020,
          2020,
          2020,
          2020,
          2020,
          2020,
          2020,
          2020,
          2020,
          2020,
          2020,
          2020,
          2020,
          2021,
          2021,
          2022,
          2021,
          2021,
          2021,
          2021,
          2021,
          2021,
          2021,
          2021,
          2021,
          2022,
          2021,
          2022,
          2022,
          2022,
          2021,
          2022,
          2021,
          2022,
          2021,
          2021,
          2021,
          2022,
          2021,
          2021,
          2021,
          2022,
          2021,
          2021,
          2022,
          2021,
          2022,
          2022,
          2021,
          2022,
          2021,
          2021,
          2021,
          2021,
          2021,
          2021,
          2021,
          2021,
          2022,
          2021,
          2021,
          2021,
          2021,
          2022,
          2021,
          2022,
          2021,
          2022,
          2021,
          2021,
          2021,
          2021,
          2021,
          2021,
          2021,
          2021,
          2021,
          2022,
          2021,
          2021,
          2022,
          2021,
          2021,
          2021,
          2021,
          2022,
          2021,
          2021,
          2021,
          2022,
          2021,
          2021,
          2021,
          2021,
          2021,
          2021,
          2021,
          2021,
          2021,
          2021,
          2022,
          2021,
          2021,
          2021,
          2021,
          2021,
          2021,
          2021,
          2021,
          2021
         ],
         "xaxis": "x",
         "yaxis": "y"
        },
        {
         "alignmentgroup": "True",
         "bingroup": "x",
         "hovertemplate": "type=SHOW<br>release_year=%{x}<br>count=%{y}<extra></extra>",
         "legendgroup": "SHOW",
         "marker": {
          "color": "#EF553B",
          "pattern": {
           "shape": ""
          }
         },
         "name": "SHOW",
         "offsetgroup": "SHOW",
         "orientation": "v",
         "showlegend": true,
         "type": "histogram",
         "x": [
          1976,
          1973,
          1955,
          1979,
          1955,
          1989,
          1989,
          1987,
          1989,
          1981,
          1981,
          1985,
          1990,
          1985,
          1988,
          1985,
          1993,
          1991,
          1991,
          1994,
          2000,
          1997,
          1994,
          1999,
          1996,
          1997,
          1998,
          1991,
          2000,
          1994,
          1998,
          1997,
          1993,
          1995,
          1998,
          1992,
          1999,
          1996,
          1992,
          1997,
          1999,
          1996,
          2000,
          2008,
          2003,
          2007,
          2004,
          2001,
          2005,
          2002,
          2006,
          2010,
          2009,
          2006,
          2005,
          2007,
          2001,
          2010,
          2003,
          2009,
          2010,
          2005,
          2010,
          2003,
          2004,
          2009,
          2006,
          2009,
          2008,
          2009,
          2006,
          2009,
          2001,
          2004,
          2007,
          2010,
          2006,
          2008,
          2010,
          2008,
          2004,
          2007,
          2009,
          2010,
          2008,
          2010,
          2011,
          2012,
          2011,
          2012,
          2012,
          2012,
          2011,
          2012,
          2011,
          2011,
          2012,
          2012,
          2011,
          2011,
          2012,
          2011,
          2012,
          2012,
          2011,
          2012,
          2011,
          2012,
          2011,
          2012,
          2011,
          2012,
          2012,
          2014,
          2014,
          2013,
          2014,
          2014,
          2013,
          2014,
          2013,
          2014,
          2013,
          2013,
          2013,
          2014,
          2014,
          2013,
          2013,
          2013,
          2013,
          2014,
          2014,
          2013,
          2014,
          2014,
          2013,
          2013,
          2014,
          2014,
          2013,
          2014,
          2013,
          2015,
          2015,
          2015,
          2015,
          2015,
          2016,
          2016,
          2015,
          2016,
          2015,
          2015,
          2015,
          2015,
          2015,
          2016,
          2016,
          2016,
          2015,
          2016,
          2015,
          2015,
          2015,
          2016,
          2015,
          2016,
          2016,
          2015,
          2016,
          2016,
          2016,
          2016,
          2016,
          2015,
          2016,
          2015,
          2015,
          2016,
          2016,
          2015,
          2015,
          2016,
          2016,
          2015,
          2016,
          2016,
          2015,
          2018,
          2017,
          2017,
          2017,
          2017,
          2017,
          2017,
          2018,
          2018,
          2017,
          2018,
          2018,
          2017,
          2017,
          2017,
          2018,
          2018,
          2017,
          2017,
          2018,
          2017,
          2018,
          2017,
          2018,
          2017,
          2017,
          2017,
          2017,
          2017,
          2017,
          2018,
          2017,
          2018,
          2017,
          2017,
          2018,
          2017,
          2018,
          2017,
          2018,
          2017,
          2018,
          2018,
          2018,
          2017,
          2017,
          2018,
          2018,
          2017,
          2017,
          2018,
          2018,
          2018,
          2018,
          2017,
          2018,
          2018,
          2018,
          2019,
          2020,
          2019,
          2020,
          2019,
          2020,
          2019,
          2019,
          2019,
          2019,
          2020,
          2019,
          2020,
          2020,
          2019,
          2020,
          2020,
          2020,
          2019,
          2020,
          2020,
          2019,
          2019,
          2019,
          2019,
          2020,
          2020,
          2019,
          2020,
          2020,
          2019,
          2020,
          2020,
          2019,
          2019,
          2020,
          2019,
          2019,
          2020,
          2020,
          2019,
          2019,
          2019,
          2020,
          2020,
          2020,
          2019,
          2019,
          2019,
          2020,
          2020,
          2019,
          2020,
          2019,
          2020,
          2019,
          2019,
          2020,
          2020,
          2020,
          2020,
          2020,
          2019,
          2020,
          2019,
          2020,
          2020,
          2019,
          2019,
          2020,
          2019,
          2020,
          2020,
          2020,
          2020,
          2019,
          2020,
          2020,
          2019,
          2020,
          2019,
          2019,
          2020,
          2020,
          2019,
          2020,
          2019,
          2019,
          2020,
          2022,
          2021,
          2021,
          2021,
          2021,
          2021,
          2021,
          2021,
          2021,
          2021,
          2021,
          2022,
          2021,
          2021,
          2021,
          2021,
          2022,
          2022,
          2021,
          2021,
          2021,
          2021,
          2022,
          2021,
          2021,
          2022,
          2022,
          2021,
          2021,
          2021,
          2021,
          2021,
          2022,
          2021,
          2021,
          2021,
          2021,
          2021,
          2021,
          2022,
          2021,
          2021,
          2021,
          2021,
          2021,
          2021,
          2021,
          2021,
          2021,
          2021,
          2021,
          2021,
          2021,
          2022,
          2021,
          2022,
          2021,
          2021,
          2021,
          2021,
          2021,
          2021,
          2021,
          2022,
          2021,
          2021,
          2021,
          2021,
          2021,
          2021,
          2021
         ],
         "xaxis": "x",
         "yaxis": "y"
        }
       ],
       "layout": {
        "barmode": "relative",
        "legend": {
         "title": {
          "text": "type"
         },
         "tracegroupgap": 0
        },
        "template": {
         "data": {
          "bar": [
           {
            "error_x": {
             "color": "#2a3f5f"
            },
            "error_y": {
             "color": "#2a3f5f"
            },
            "marker": {
             "line": {
              "color": "#E5ECF6",
              "width": 0.5
             },
             "pattern": {
              "fillmode": "overlay",
              "size": 10,
              "solidity": 0.2
             }
            },
            "type": "bar"
           }
          ],
          "barpolar": [
           {
            "marker": {
             "line": {
              "color": "#E5ECF6",
              "width": 0.5
             },
             "pattern": {
              "fillmode": "overlay",
              "size": 10,
              "solidity": 0.2
             }
            },
            "type": "barpolar"
           }
          ],
          "carpet": [
           {
            "aaxis": {
             "endlinecolor": "#2a3f5f",
             "gridcolor": "white",
             "linecolor": "white",
             "minorgridcolor": "white",
             "startlinecolor": "#2a3f5f"
            },
            "baxis": {
             "endlinecolor": "#2a3f5f",
             "gridcolor": "white",
             "linecolor": "white",
             "minorgridcolor": "white",
             "startlinecolor": "#2a3f5f"
            },
            "type": "carpet"
           }
          ],
          "choropleth": [
           {
            "colorbar": {
             "outlinewidth": 0,
             "ticks": ""
            },
            "type": "choropleth"
           }
          ],
          "contour": [
           {
            "colorbar": {
             "outlinewidth": 0,
             "ticks": ""
            },
            "colorscale": [
             [
              0,
              "#0d0887"
             ],
             [
              0.1111111111111111,
              "#46039f"
             ],
             [
              0.2222222222222222,
              "#7201a8"
             ],
             [
              0.3333333333333333,
              "#9c179e"
             ],
             [
              0.4444444444444444,
              "#bd3786"
             ],
             [
              0.5555555555555556,
              "#d8576b"
             ],
             [
              0.6666666666666666,
              "#ed7953"
             ],
             [
              0.7777777777777778,
              "#fb9f3a"
             ],
             [
              0.8888888888888888,
              "#fdca26"
             ],
             [
              1,
              "#f0f921"
             ]
            ],
            "type": "contour"
           }
          ],
          "contourcarpet": [
           {
            "colorbar": {
             "outlinewidth": 0,
             "ticks": ""
            },
            "type": "contourcarpet"
           }
          ],
          "heatmap": [
           {
            "colorbar": {
             "outlinewidth": 0,
             "ticks": ""
            },
            "colorscale": [
             [
              0,
              "#0d0887"
             ],
             [
              0.1111111111111111,
              "#46039f"
             ],
             [
              0.2222222222222222,
              "#7201a8"
             ],
             [
              0.3333333333333333,
              "#9c179e"
             ],
             [
              0.4444444444444444,
              "#bd3786"
             ],
             [
              0.5555555555555556,
              "#d8576b"
             ],
             [
              0.6666666666666666,
              "#ed7953"
             ],
             [
              0.7777777777777778,
              "#fb9f3a"
             ],
             [
              0.8888888888888888,
              "#fdca26"
             ],
             [
              1,
              "#f0f921"
             ]
            ],
            "type": "heatmap"
           }
          ],
          "heatmapgl": [
           {
            "colorbar": {
             "outlinewidth": 0,
             "ticks": ""
            },
            "colorscale": [
             [
              0,
              "#0d0887"
             ],
             [
              0.1111111111111111,
              "#46039f"
             ],
             [
              0.2222222222222222,
              "#7201a8"
             ],
             [
              0.3333333333333333,
              "#9c179e"
             ],
             [
              0.4444444444444444,
              "#bd3786"
             ],
             [
              0.5555555555555556,
              "#d8576b"
             ],
             [
              0.6666666666666666,
              "#ed7953"
             ],
             [
              0.7777777777777778,
              "#fb9f3a"
             ],
             [
              0.8888888888888888,
              "#fdca26"
             ],
             [
              1,
              "#f0f921"
             ]
            ],
            "type": "heatmapgl"
           }
          ],
          "histogram": [
           {
            "marker": {
             "pattern": {
              "fillmode": "overlay",
              "size": 10,
              "solidity": 0.2
             }
            },
            "type": "histogram"
           }
          ],
          "histogram2d": [
           {
            "colorbar": {
             "outlinewidth": 0,
             "ticks": ""
            },
            "colorscale": [
             [
              0,
              "#0d0887"
             ],
             [
              0.1111111111111111,
              "#46039f"
             ],
             [
              0.2222222222222222,
              "#7201a8"
             ],
             [
              0.3333333333333333,
              "#9c179e"
             ],
             [
              0.4444444444444444,
              "#bd3786"
             ],
             [
              0.5555555555555556,
              "#d8576b"
             ],
             [
              0.6666666666666666,
              "#ed7953"
             ],
             [
              0.7777777777777778,
              "#fb9f3a"
             ],
             [
              0.8888888888888888,
              "#fdca26"
             ],
             [
              1,
              "#f0f921"
             ]
            ],
            "type": "histogram2d"
           }
          ],
          "histogram2dcontour": [
           {
            "colorbar": {
             "outlinewidth": 0,
             "ticks": ""
            },
            "colorscale": [
             [
              0,
              "#0d0887"
             ],
             [
              0.1111111111111111,
              "#46039f"
             ],
             [
              0.2222222222222222,
              "#7201a8"
             ],
             [
              0.3333333333333333,
              "#9c179e"
             ],
             [
              0.4444444444444444,
              "#bd3786"
             ],
             [
              0.5555555555555556,
              "#d8576b"
             ],
             [
              0.6666666666666666,
              "#ed7953"
             ],
             [
              0.7777777777777778,
              "#fb9f3a"
             ],
             [
              0.8888888888888888,
              "#fdca26"
             ],
             [
              1,
              "#f0f921"
             ]
            ],
            "type": "histogram2dcontour"
           }
          ],
          "mesh3d": [
           {
            "colorbar": {
             "outlinewidth": 0,
             "ticks": ""
            },
            "type": "mesh3d"
           }
          ],
          "parcoords": [
           {
            "line": {
             "colorbar": {
              "outlinewidth": 0,
              "ticks": ""
             }
            },
            "type": "parcoords"
           }
          ],
          "pie": [
           {
            "automargin": true,
            "type": "pie"
           }
          ],
          "scatter": [
           {
            "fillpattern": {
             "fillmode": "overlay",
             "size": 10,
             "solidity": 0.2
            },
            "type": "scatter"
           }
          ],
          "scatter3d": [
           {
            "line": {
             "colorbar": {
              "outlinewidth": 0,
              "ticks": ""
             }
            },
            "marker": {
             "colorbar": {
              "outlinewidth": 0,
              "ticks": ""
             }
            },
            "type": "scatter3d"
           }
          ],
          "scattercarpet": [
           {
            "marker": {
             "colorbar": {
              "outlinewidth": 0,
              "ticks": ""
             }
            },
            "type": "scattercarpet"
           }
          ],
          "scattergeo": [
           {
            "marker": {
             "colorbar": {
              "outlinewidth": 0,
              "ticks": ""
             }
            },
            "type": "scattergeo"
           }
          ],
          "scattergl": [
           {
            "marker": {
             "colorbar": {
              "outlinewidth": 0,
              "ticks": ""
             }
            },
            "type": "scattergl"
           }
          ],
          "scattermapbox": [
           {
            "marker": {
             "colorbar": {
              "outlinewidth": 0,
              "ticks": ""
             }
            },
            "type": "scattermapbox"
           }
          ],
          "scatterpolar": [
           {
            "marker": {
             "colorbar": {
              "outlinewidth": 0,
              "ticks": ""
             }
            },
            "type": "scatterpolar"
           }
          ],
          "scatterpolargl": [
           {
            "marker": {
             "colorbar": {
              "outlinewidth": 0,
              "ticks": ""
             }
            },
            "type": "scatterpolargl"
           }
          ],
          "scatterternary": [
           {
            "marker": {
             "colorbar": {
              "outlinewidth": 0,
              "ticks": ""
             }
            },
            "type": "scatterternary"
           }
          ],
          "surface": [
           {
            "colorbar": {
             "outlinewidth": 0,
             "ticks": ""
            },
            "colorscale": [
             [
              0,
              "#0d0887"
             ],
             [
              0.1111111111111111,
              "#46039f"
             ],
             [
              0.2222222222222222,
              "#7201a8"
             ],
             [
              0.3333333333333333,
              "#9c179e"
             ],
             [
              0.4444444444444444,
              "#bd3786"
             ],
             [
              0.5555555555555556,
              "#d8576b"
             ],
             [
              0.6666666666666666,
              "#ed7953"
             ],
             [
              0.7777777777777778,
              "#fb9f3a"
             ],
             [
              0.8888888888888888,
              "#fdca26"
             ],
             [
              1,
              "#f0f921"
             ]
            ],
            "type": "surface"
           }
          ],
          "table": [
           {
            "cells": {
             "fill": {
              "color": "#EBF0F8"
             },
             "line": {
              "color": "white"
             }
            },
            "header": {
             "fill": {
              "color": "#C8D4E3"
             },
             "line": {
              "color": "white"
             }
            },
            "type": "table"
           }
          ]
         },
         "layout": {
          "annotationdefaults": {
           "arrowcolor": "#2a3f5f",
           "arrowhead": 0,
           "arrowwidth": 1
          },
          "autotypenumbers": "strict",
          "coloraxis": {
           "colorbar": {
            "outlinewidth": 0,
            "ticks": ""
           }
          },
          "colorscale": {
           "diverging": [
            [
             0,
             "#8e0152"
            ],
            [
             0.1,
             "#c51b7d"
            ],
            [
             0.2,
             "#de77ae"
            ],
            [
             0.3,
             "#f1b6da"
            ],
            [
             0.4,
             "#fde0ef"
            ],
            [
             0.5,
             "#f7f7f7"
            ],
            [
             0.6,
             "#e6f5d0"
            ],
            [
             0.7,
             "#b8e186"
            ],
            [
             0.8,
             "#7fbc41"
            ],
            [
             0.9,
             "#4d9221"
            ],
            [
             1,
             "#276419"
            ]
           ],
           "sequential": [
            [
             0,
             "#0d0887"
            ],
            [
             0.1111111111111111,
             "#46039f"
            ],
            [
             0.2222222222222222,
             "#7201a8"
            ],
            [
             0.3333333333333333,
             "#9c179e"
            ],
            [
             0.4444444444444444,
             "#bd3786"
            ],
            [
             0.5555555555555556,
             "#d8576b"
            ],
            [
             0.6666666666666666,
             "#ed7953"
            ],
            [
             0.7777777777777778,
             "#fb9f3a"
            ],
            [
             0.8888888888888888,
             "#fdca26"
            ],
            [
             1,
             "#f0f921"
            ]
           ],
           "sequentialminus": [
            [
             0,
             "#0d0887"
            ],
            [
             0.1111111111111111,
             "#46039f"
            ],
            [
             0.2222222222222222,
             "#7201a8"
            ],
            [
             0.3333333333333333,
             "#9c179e"
            ],
            [
             0.4444444444444444,
             "#bd3786"
            ],
            [
             0.5555555555555556,
             "#d8576b"
            ],
            [
             0.6666666666666666,
             "#ed7953"
            ],
            [
             0.7777777777777778,
             "#fb9f3a"
            ],
            [
             0.8888888888888888,
             "#fdca26"
            ],
            [
             1,
             "#f0f921"
            ]
           ]
          },
          "colorway": [
           "#636efa",
           "#EF553B",
           "#00cc96",
           "#ab63fa",
           "#FFA15A",
           "#19d3f3",
           "#FF6692",
           "#B6E880",
           "#FF97FF",
           "#FECB52"
          ],
          "font": {
           "color": "#2a3f5f"
          },
          "geo": {
           "bgcolor": "white",
           "lakecolor": "white",
           "landcolor": "#E5ECF6",
           "showlakes": true,
           "showland": true,
           "subunitcolor": "white"
          },
          "hoverlabel": {
           "align": "left"
          },
          "hovermode": "closest",
          "mapbox": {
           "style": "light"
          },
          "paper_bgcolor": "white",
          "plot_bgcolor": "#E5ECF6",
          "polar": {
           "angularaxis": {
            "gridcolor": "white",
            "linecolor": "white",
            "ticks": ""
           },
           "bgcolor": "#E5ECF6",
           "radialaxis": {
            "gridcolor": "white",
            "linecolor": "white",
            "ticks": ""
           }
          },
          "scene": {
           "xaxis": {
            "backgroundcolor": "#E5ECF6",
            "gridcolor": "white",
            "gridwidth": 2,
            "linecolor": "white",
            "showbackground": true,
            "ticks": "",
            "zerolinecolor": "white"
           },
           "yaxis": {
            "backgroundcolor": "#E5ECF6",
            "gridcolor": "white",
            "gridwidth": 2,
            "linecolor": "white",
            "showbackground": true,
            "ticks": "",
            "zerolinecolor": "white"
           },
           "zaxis": {
            "backgroundcolor": "#E5ECF6",
            "gridcolor": "white",
            "gridwidth": 2,
            "linecolor": "white",
            "showbackground": true,
            "ticks": "",
            "zerolinecolor": "white"
           }
          },
          "shapedefaults": {
           "line": {
            "color": "#2a3f5f"
           }
          },
          "ternary": {
           "aaxis": {
            "gridcolor": "white",
            "linecolor": "white",
            "ticks": ""
           },
           "baxis": {
            "gridcolor": "white",
            "linecolor": "white",
            "ticks": ""
           },
           "bgcolor": "#E5ECF6",
           "caxis": {
            "gridcolor": "white",
            "linecolor": "white",
            "ticks": ""
           }
          },
          "title": {
           "x": 0.05
          },
          "xaxis": {
           "automargin": true,
           "gridcolor": "white",
           "linecolor": "white",
           "ticks": "",
           "title": {
            "standoff": 15
           },
           "zerolinecolor": "white",
           "zerolinewidth": 2
          },
          "yaxis": {
           "automargin": true,
           "gridcolor": "white",
           "linecolor": "white",
           "ticks": "",
           "title": {
            "standoff": 15
           },
           "zerolinecolor": "white",
           "zerolinewidth": 2
          }
         }
        },
        "title": {
         "text": "imdp score histogram analysis"
        },
        "xaxis": {
         "anchor": "y",
         "domain": [
          0,
          1
         ],
         "title": {
          "text": "release_year"
         }
        },
        "yaxis": {
         "anchor": "x",
         "domain": [
          0,
          1
         ],
         "title": {
          "text": "count"
         }
        }
       }
      },
      "text/html": [
       "<div>                            <div id=\"08c17fd1-94cf-43e4-922a-f31dd1c066cc\" class=\"plotly-graph-div\" style=\"height:525px; width:100%;\"></div>            <script type=\"text/javascript\">                require([\"plotly\"], function(Plotly) {                    window.PLOTLYENV=window.PLOTLYENV || {};                                    if (document.getElementById(\"08c17fd1-94cf-43e4-922a-f31dd1c066cc\")) {                    Plotly.newPlot(                        \"08c17fd1-94cf-43e4-922a-f31dd1c066cc\",                        [{\"alignmentgroup\":\"True\",\"bingroup\":\"x\",\"hovertemplate\":\"type=MOVIE<br>release_year=%{x}<br>count=%{y}<extra></extra>\",\"legendgroup\":\"MOVIE\",\"marker\":{\"color\":\"#636efa\",\"pattern\":{\"shape\":\"\"}},\"name\":\"MOVIE\",\"offsetgroup\":\"MOVIE\",\"orientation\":\"v\",\"showlegend\":true,\"x\":[1940,1937,1940,1942,1950,1949,1950,1941,1944,1941,1947,1928,1942,1942,1948,1938,1933,1940,1932,1940,1950,1939,1933,1937,1934,1936,1934,1944,1936,1932,1942,1937,1939,1942,1947,1934,1935,1938,1937,1947,1941,1942,1950,1941,1938,1943,1935,1938,1939,1935,1935,1937,1948,1936,1948,1940,1946,1934,1941,1947,1948,1936,1939,1949,1939,1933,1937,1932,1949,1949,1942,1946,1936,1941,1949,1940,1941,1941,1950,1950,1947,1940,1948,1936,1965,1977,1964,1979,1955,1969,1954,1980,1979,1951,1970,1961,1973,1963,1953,1971,1957,1967,1959,1955,1977,1968,1977,1961,1959,1961,1977,1975,1976,1975,1959,1959,1960,1961,1965,1974,1977,1969,1978,1958,1968,1952,1952,1967,1976,1963,1962,1972,1964,1955,1977,1966,1967,1961,1975,1976,1978,1959,1979,1974,1976,1957,1979,1972,1971,1974,1964,1953,1980,1954,1978,1971,1963,1956,1955,1956,1978,1962,1959,1972,1977,1952,1965,1974,1975,1962,1953,1954,1952,1957,1980,1955,1952,1957,1952,1956,1955,1951,1955,1953,1953,1953,1969,1955,1952,1951,1980,1951,1954,1977,1952,1955,1966,1987,1990,1988,1988,1987,1985,1990,1989,1984,1986,1982,1987,1985,1983,1989,1988,1981,1985,1984,1986,1989,1988,1988,1985,1990,1981,1990,1984,1990,1990,1987,1983,1981,1986,1989,1985,1986,1986,1987,1989,1988,1986,1984,1989,1986,1987,1999,2000,1993,1999,2000,1995,1995,1995,1991,1992,1997,2000,1996,1993,1999,1999,1993,1993,1993,1992,1995,1994,1994,1992,1998,1992,1999,1997,1998,1996,1991,1996,1997,1995,1999,1993,1994,1992,1993,1999,1991,1994,1995,2000,1992,2000,1997,1997,1999,1995,1996,1994,1996,1995,1993,1996,1999,1997,1998,1994,1992,1994,1995,1991,1996,1996,1999,1995,1995,1997,1998,1998,1999,1994,1998,1996,2000,1998,1999,1996,1997,1995,1993,1994,2000,1994,1997,2000,1999,2000,1998,1999,1999,1998,1997,1999,1998,1999,2000,1999,1997,1999,1995,1999,1998,2000,1998,1998,2000,1999,1998,2000,1997,1998,2000,2000,1998,2000,1993,2000,2000,2000,2000,2000,2000,1991,2003,2009,2004,2009,2006,2010,2007,2006,2003,2005,2008,2002,2001,2010,2010,2007,2007,2007,2002,2003,2004,2009,2010,2004,2007,2003,2009,2007,2009,2005,2010,2010,2003,2008,2010,2006,2007,2001,2002,2004,2009,2002,2005,2001,2006,2005,2005,2007,2005,2005,2006,2010,2010,2002,2008,2010,2008,2010,2006,2006,2005,2009,2006,2004,2003,2010,2010,2009,2004,2005,2008,2006,2009,2002,2002,2004,2003,2007,2010,2006,2009,2010,2003,2006,2005,2007,2006,2007,2003,2004,2006,2008,2007,2002,2010,2002,2002,2004,2008,2008,2009,2004,2008,2008,2005,2010,2005,2004,2008,2006,2005,2005,2002,2010,2001,2004,2006,2008,2009,2002,2004,2003,2009,2010,2005,2005,2001,2002,2005,2009,2007,2008,2005,2001,2005,2008,2010,2009,2010,2009,2003,2006,2010,2003,2003,2003,2001,2003,2002,2009,2010,2001,2001,2002,2009,2002,2007,2004,2006,2007,2006,2002,2002,2010,2005,2006,2004,2008,2006,2005,2009,2006,2005,2006,2003,2008,2002,2005,2008,2002,2009,2006,2009,2008,2004,2002,2007,2006,2009,2010,2007,2003,2006,2008,2010,2008,2002,2003,2002,2009,2002,2003,2010,2009,2001,2008,2009,2008,2001,2003,2007,2008,2005,2003,2005,2007,2006,2009,2010,2010,2004,2003,2006,2003,2009,2001,2005,2008,2005,2006,2010,2004,2009,2003,2004,2001,2007,2010,2004,2009,2008,2003,2002,2005,2001,2001,2009,2009,2010,2004,2009,2011,2011,2012,2011,2012,2011,2012,2012,2012,2011,2011,2012,2011,2011,2012,2011,2012,2011,2011,2012,2011,2011,2012,2011,2012,2011,2011,2012,2012,2011,2011,2011,2012,2011,2012,2011,2012,2011,2012,2011,2012,2012,2011,2012,2011,2011,2012,2012,2011,2011,2012,2012,2012,2012,2011,2012,2011,2011,2011,2012,2012,2012,2011,2011,2012,2012,2014,2014,2014,2014,2014,2014,2013,2014,2013,2013,2014,2013,2014,2013,2014,2013,2014,2013,2013,2014,2014,2013,2013,2014,2014,2014,2014,2014,2014,2014,2014,2014,2013,2014,2014,2014,2013,2013,2014,2014,2014,2013,2014,2013,2013,2014,2013,2013,2013,2014,2014,2014,2013,2014,2013,2013,2014,2014,2014,2013,2013,2014,2016,2016,2016,2015,2016,2016,2016,2016,2016,2015,2016,2015,2015,2015,2016,2015,2015,2015,2016,2016,2016,2016,2016,2016,2016,2016,2015,2015,2016,2015,2015,2016,2015,2016,2015,2016,2016,2015,2015,2015,2015,2016,2016,2015,2015,2016,2016,2016,2016,2015,2015,2016,2016,2015,2015,2016,2015,2017,2018,2018,2017,2017,2017,2018,2018,2018,2017,2018,2018,2018,2017,2018,2017,2018,2018,2017,2017,2018,2017,2018,2018,2017,2017,2017,2018,2018,2017,2017,2017,2017,2017,2018,2018,2018,2017,2017,2018,2017,2018,2017,2017,2018,2018,2017,2018,2017,2017,2018,2018,2017,2018,2017,2017,2018,2018,2017,2017,2018,2018,2017,2018,2018,2017,2020,2019,2019,2020,2019,2019,2020,2019,2019,2019,2020,2019,2020,2019,2019,2020,2020,2020,2020,2020,2020,2020,2020,2020,2019,2020,2020,2020,2020,2020,2020,2020,2020,2020,2020,2020,2019,2020,2019,2019,2020,2019,2020,2020,2019,2019,2019,2020,2020,2020,2020,2019,2020,2019,2019,2020,2020,2020,2020,2020,2020,2019,2020,2019,2019,2019,2019,2019,2019,2020,2019,2020,2020,2019,2020,2020,2019,2020,2019,2019,2019,2019,2019,2019,2019,2019,2020,2020,2019,2020,2020,2020,2020,2020,2019,2019,2019,2019,2019,2020,2020,2019,2019,2020,2020,2020,2020,2020,2020,2020,2020,2020,2020,2020,2020,2020,2020,2020,2020,2020,2020,2020,2020,2020,2020,2021,2021,2022,2021,2021,2021,2021,2021,2021,2021,2021,2021,2022,2021,2022,2022,2022,2021,2022,2021,2022,2021,2021,2021,2022,2021,2021,2021,2022,2021,2021,2022,2021,2022,2022,2021,2022,2021,2021,2021,2021,2021,2021,2021,2021,2022,2021,2021,2021,2021,2022,2021,2022,2021,2022,2021,2021,2021,2021,2021,2021,2021,2021,2021,2022,2021,2021,2022,2021,2021,2021,2021,2022,2021,2021,2021,2022,2021,2021,2021,2021,2021,2021,2021,2021,2021,2021,2022,2021,2021,2021,2021,2021,2021,2021,2021,2021],\"xaxis\":\"x\",\"yaxis\":\"y\",\"type\":\"histogram\"},{\"alignmentgroup\":\"True\",\"bingroup\":\"x\",\"hovertemplate\":\"type=SHOW<br>release_year=%{x}<br>count=%{y}<extra></extra>\",\"legendgroup\":\"SHOW\",\"marker\":{\"color\":\"#EF553B\",\"pattern\":{\"shape\":\"\"}},\"name\":\"SHOW\",\"offsetgroup\":\"SHOW\",\"orientation\":\"v\",\"showlegend\":true,\"x\":[1976,1973,1955,1979,1955,1989,1989,1987,1989,1981,1981,1985,1990,1985,1988,1985,1993,1991,1991,1994,2000,1997,1994,1999,1996,1997,1998,1991,2000,1994,1998,1997,1993,1995,1998,1992,1999,1996,1992,1997,1999,1996,2000,2008,2003,2007,2004,2001,2005,2002,2006,2010,2009,2006,2005,2007,2001,2010,2003,2009,2010,2005,2010,2003,2004,2009,2006,2009,2008,2009,2006,2009,2001,2004,2007,2010,2006,2008,2010,2008,2004,2007,2009,2010,2008,2010,2011,2012,2011,2012,2012,2012,2011,2012,2011,2011,2012,2012,2011,2011,2012,2011,2012,2012,2011,2012,2011,2012,2011,2012,2011,2012,2012,2014,2014,2013,2014,2014,2013,2014,2013,2014,2013,2013,2013,2014,2014,2013,2013,2013,2013,2014,2014,2013,2014,2014,2013,2013,2014,2014,2013,2014,2013,2015,2015,2015,2015,2015,2016,2016,2015,2016,2015,2015,2015,2015,2015,2016,2016,2016,2015,2016,2015,2015,2015,2016,2015,2016,2016,2015,2016,2016,2016,2016,2016,2015,2016,2015,2015,2016,2016,2015,2015,2016,2016,2015,2016,2016,2015,2018,2017,2017,2017,2017,2017,2017,2018,2018,2017,2018,2018,2017,2017,2017,2018,2018,2017,2017,2018,2017,2018,2017,2018,2017,2017,2017,2017,2017,2017,2018,2017,2018,2017,2017,2018,2017,2018,2017,2018,2017,2018,2018,2018,2017,2017,2018,2018,2017,2017,2018,2018,2018,2018,2017,2018,2018,2018,2019,2020,2019,2020,2019,2020,2019,2019,2019,2019,2020,2019,2020,2020,2019,2020,2020,2020,2019,2020,2020,2019,2019,2019,2019,2020,2020,2019,2020,2020,2019,2020,2020,2019,2019,2020,2019,2019,2020,2020,2019,2019,2019,2020,2020,2020,2019,2019,2019,2020,2020,2019,2020,2019,2020,2019,2019,2020,2020,2020,2020,2020,2019,2020,2019,2020,2020,2019,2019,2020,2019,2020,2020,2020,2020,2019,2020,2020,2019,2020,2019,2019,2020,2020,2019,2020,2019,2019,2020,2022,2021,2021,2021,2021,2021,2021,2021,2021,2021,2021,2022,2021,2021,2021,2021,2022,2022,2021,2021,2021,2021,2022,2021,2021,2022,2022,2021,2021,2021,2021,2021,2022,2021,2021,2021,2021,2021,2021,2022,2021,2021,2021,2021,2021,2021,2021,2021,2021,2021,2021,2021,2021,2022,2021,2022,2021,2021,2021,2021,2021,2021,2021,2022,2021,2021,2021,2021,2021,2021,2021],\"xaxis\":\"x\",\"yaxis\":\"y\",\"type\":\"histogram\"}],                        {\"template\":{\"data\":{\"histogram2dcontour\":[{\"type\":\"histogram2dcontour\",\"colorbar\":{\"outlinewidth\":0,\"ticks\":\"\"},\"colorscale\":[[0.0,\"#0d0887\"],[0.1111111111111111,\"#46039f\"],[0.2222222222222222,\"#7201a8\"],[0.3333333333333333,\"#9c179e\"],[0.4444444444444444,\"#bd3786\"],[0.5555555555555556,\"#d8576b\"],[0.6666666666666666,\"#ed7953\"],[0.7777777777777778,\"#fb9f3a\"],[0.8888888888888888,\"#fdca26\"],[1.0,\"#f0f921\"]]}],\"choropleth\":[{\"type\":\"choropleth\",\"colorbar\":{\"outlinewidth\":0,\"ticks\":\"\"}}],\"histogram2d\":[{\"type\":\"histogram2d\",\"colorbar\":{\"outlinewidth\":0,\"ticks\":\"\"},\"colorscale\":[[0.0,\"#0d0887\"],[0.1111111111111111,\"#46039f\"],[0.2222222222222222,\"#7201a8\"],[0.3333333333333333,\"#9c179e\"],[0.4444444444444444,\"#bd3786\"],[0.5555555555555556,\"#d8576b\"],[0.6666666666666666,\"#ed7953\"],[0.7777777777777778,\"#fb9f3a\"],[0.8888888888888888,\"#fdca26\"],[1.0,\"#f0f921\"]]}],\"heatmap\":[{\"type\":\"heatmap\",\"colorbar\":{\"outlinewidth\":0,\"ticks\":\"\"},\"colorscale\":[[0.0,\"#0d0887\"],[0.1111111111111111,\"#46039f\"],[0.2222222222222222,\"#7201a8\"],[0.3333333333333333,\"#9c179e\"],[0.4444444444444444,\"#bd3786\"],[0.5555555555555556,\"#d8576b\"],[0.6666666666666666,\"#ed7953\"],[0.7777777777777778,\"#fb9f3a\"],[0.8888888888888888,\"#fdca26\"],[1.0,\"#f0f921\"]]}],\"heatmapgl\":[{\"type\":\"heatmapgl\",\"colorbar\":{\"outlinewidth\":0,\"ticks\":\"\"},\"colorscale\":[[0.0,\"#0d0887\"],[0.1111111111111111,\"#46039f\"],[0.2222222222222222,\"#7201a8\"],[0.3333333333333333,\"#9c179e\"],[0.4444444444444444,\"#bd3786\"],[0.5555555555555556,\"#d8576b\"],[0.6666666666666666,\"#ed7953\"],[0.7777777777777778,\"#fb9f3a\"],[0.8888888888888888,\"#fdca26\"],[1.0,\"#f0f921\"]]}],\"contourcarpet\":[{\"type\":\"contourcarpet\",\"colorbar\":{\"outlinewidth\":0,\"ticks\":\"\"}}],\"contour\":[{\"type\":\"contour\",\"colorbar\":{\"outlinewidth\":0,\"ticks\":\"\"},\"colorscale\":[[0.0,\"#0d0887\"],[0.1111111111111111,\"#46039f\"],[0.2222222222222222,\"#7201a8\"],[0.3333333333333333,\"#9c179e\"],[0.4444444444444444,\"#bd3786\"],[0.5555555555555556,\"#d8576b\"],[0.6666666666666666,\"#ed7953\"],[0.7777777777777778,\"#fb9f3a\"],[0.8888888888888888,\"#fdca26\"],[1.0,\"#f0f921\"]]}],\"surface\":[{\"type\":\"surface\",\"colorbar\":{\"outlinewidth\":0,\"ticks\":\"\"},\"colorscale\":[[0.0,\"#0d0887\"],[0.1111111111111111,\"#46039f\"],[0.2222222222222222,\"#7201a8\"],[0.3333333333333333,\"#9c179e\"],[0.4444444444444444,\"#bd3786\"],[0.5555555555555556,\"#d8576b\"],[0.6666666666666666,\"#ed7953\"],[0.7777777777777778,\"#fb9f3a\"],[0.8888888888888888,\"#fdca26\"],[1.0,\"#f0f921\"]]}],\"mesh3d\":[{\"type\":\"mesh3d\",\"colorbar\":{\"outlinewidth\":0,\"ticks\":\"\"}}],\"scatter\":[{\"fillpattern\":{\"fillmode\":\"overlay\",\"size\":10,\"solidity\":0.2},\"type\":\"scatter\"}],\"parcoords\":[{\"type\":\"parcoords\",\"line\":{\"colorbar\":{\"outlinewidth\":0,\"ticks\":\"\"}}}],\"scatterpolargl\":[{\"type\":\"scatterpolargl\",\"marker\":{\"colorbar\":{\"outlinewidth\":0,\"ticks\":\"\"}}}],\"bar\":[{\"error_x\":{\"color\":\"#2a3f5f\"},\"error_y\":{\"color\":\"#2a3f5f\"},\"marker\":{\"line\":{\"color\":\"#E5ECF6\",\"width\":0.5},\"pattern\":{\"fillmode\":\"overlay\",\"size\":10,\"solidity\":0.2}},\"type\":\"bar\"}],\"scattergeo\":[{\"type\":\"scattergeo\",\"marker\":{\"colorbar\":{\"outlinewidth\":0,\"ticks\":\"\"}}}],\"scatterpolar\":[{\"type\":\"scatterpolar\",\"marker\":{\"colorbar\":{\"outlinewidth\":0,\"ticks\":\"\"}}}],\"histogram\":[{\"marker\":{\"pattern\":{\"fillmode\":\"overlay\",\"size\":10,\"solidity\":0.2}},\"type\":\"histogram\"}],\"scattergl\":[{\"type\":\"scattergl\",\"marker\":{\"colorbar\":{\"outlinewidth\":0,\"ticks\":\"\"}}}],\"scatter3d\":[{\"type\":\"scatter3d\",\"line\":{\"colorbar\":{\"outlinewidth\":0,\"ticks\":\"\"}},\"marker\":{\"colorbar\":{\"outlinewidth\":0,\"ticks\":\"\"}}}],\"scattermapbox\":[{\"type\":\"scattermapbox\",\"marker\":{\"colorbar\":{\"outlinewidth\":0,\"ticks\":\"\"}}}],\"scatterternary\":[{\"type\":\"scatterternary\",\"marker\":{\"colorbar\":{\"outlinewidth\":0,\"ticks\":\"\"}}}],\"scattercarpet\":[{\"type\":\"scattercarpet\",\"marker\":{\"colorbar\":{\"outlinewidth\":0,\"ticks\":\"\"}}}],\"carpet\":[{\"aaxis\":{\"endlinecolor\":\"#2a3f5f\",\"gridcolor\":\"white\",\"linecolor\":\"white\",\"minorgridcolor\":\"white\",\"startlinecolor\":\"#2a3f5f\"},\"baxis\":{\"endlinecolor\":\"#2a3f5f\",\"gridcolor\":\"white\",\"linecolor\":\"white\",\"minorgridcolor\":\"white\",\"startlinecolor\":\"#2a3f5f\"},\"type\":\"carpet\"}],\"table\":[{\"cells\":{\"fill\":{\"color\":\"#EBF0F8\"},\"line\":{\"color\":\"white\"}},\"header\":{\"fill\":{\"color\":\"#C8D4E3\"},\"line\":{\"color\":\"white\"}},\"type\":\"table\"}],\"barpolar\":[{\"marker\":{\"line\":{\"color\":\"#E5ECF6\",\"width\":0.5},\"pattern\":{\"fillmode\":\"overlay\",\"size\":10,\"solidity\":0.2}},\"type\":\"barpolar\"}],\"pie\":[{\"automargin\":true,\"type\":\"pie\"}]},\"layout\":{\"autotypenumbers\":\"strict\",\"colorway\":[\"#636efa\",\"#EF553B\",\"#00cc96\",\"#ab63fa\",\"#FFA15A\",\"#19d3f3\",\"#FF6692\",\"#B6E880\",\"#FF97FF\",\"#FECB52\"],\"font\":{\"color\":\"#2a3f5f\"},\"hovermode\":\"closest\",\"hoverlabel\":{\"align\":\"left\"},\"paper_bgcolor\":\"white\",\"plot_bgcolor\":\"#E5ECF6\",\"polar\":{\"bgcolor\":\"#E5ECF6\",\"angularaxis\":{\"gridcolor\":\"white\",\"linecolor\":\"white\",\"ticks\":\"\"},\"radialaxis\":{\"gridcolor\":\"white\",\"linecolor\":\"white\",\"ticks\":\"\"}},\"ternary\":{\"bgcolor\":\"#E5ECF6\",\"aaxis\":{\"gridcolor\":\"white\",\"linecolor\":\"white\",\"ticks\":\"\"},\"baxis\":{\"gridcolor\":\"white\",\"linecolor\":\"white\",\"ticks\":\"\"},\"caxis\":{\"gridcolor\":\"white\",\"linecolor\":\"white\",\"ticks\":\"\"}},\"coloraxis\":{\"colorbar\":{\"outlinewidth\":0,\"ticks\":\"\"}},\"colorscale\":{\"sequential\":[[0.0,\"#0d0887\"],[0.1111111111111111,\"#46039f\"],[0.2222222222222222,\"#7201a8\"],[0.3333333333333333,\"#9c179e\"],[0.4444444444444444,\"#bd3786\"],[0.5555555555555556,\"#d8576b\"],[0.6666666666666666,\"#ed7953\"],[0.7777777777777778,\"#fb9f3a\"],[0.8888888888888888,\"#fdca26\"],[1.0,\"#f0f921\"]],\"sequentialminus\":[[0.0,\"#0d0887\"],[0.1111111111111111,\"#46039f\"],[0.2222222222222222,\"#7201a8\"],[0.3333333333333333,\"#9c179e\"],[0.4444444444444444,\"#bd3786\"],[0.5555555555555556,\"#d8576b\"],[0.6666666666666666,\"#ed7953\"],[0.7777777777777778,\"#fb9f3a\"],[0.8888888888888888,\"#fdca26\"],[1.0,\"#f0f921\"]],\"diverging\":[[0,\"#8e0152\"],[0.1,\"#c51b7d\"],[0.2,\"#de77ae\"],[0.3,\"#f1b6da\"],[0.4,\"#fde0ef\"],[0.5,\"#f7f7f7\"],[0.6,\"#e6f5d0\"],[0.7,\"#b8e186\"],[0.8,\"#7fbc41\"],[0.9,\"#4d9221\"],[1,\"#276419\"]]},\"xaxis\":{\"gridcolor\":\"white\",\"linecolor\":\"white\",\"ticks\":\"\",\"title\":{\"standoff\":15},\"zerolinecolor\":\"white\",\"automargin\":true,\"zerolinewidth\":2},\"yaxis\":{\"gridcolor\":\"white\",\"linecolor\":\"white\",\"ticks\":\"\",\"title\":{\"standoff\":15},\"zerolinecolor\":\"white\",\"automargin\":true,\"zerolinewidth\":2},\"scene\":{\"xaxis\":{\"backgroundcolor\":\"#E5ECF6\",\"gridcolor\":\"white\",\"linecolor\":\"white\",\"showbackground\":true,\"ticks\":\"\",\"zerolinecolor\":\"white\",\"gridwidth\":2},\"yaxis\":{\"backgroundcolor\":\"#E5ECF6\",\"gridcolor\":\"white\",\"linecolor\":\"white\",\"showbackground\":true,\"ticks\":\"\",\"zerolinecolor\":\"white\",\"gridwidth\":2},\"zaxis\":{\"backgroundcolor\":\"#E5ECF6\",\"gridcolor\":\"white\",\"linecolor\":\"white\",\"showbackground\":true,\"ticks\":\"\",\"zerolinecolor\":\"white\",\"gridwidth\":2}},\"shapedefaults\":{\"line\":{\"color\":\"#2a3f5f\"}},\"annotationdefaults\":{\"arrowcolor\":\"#2a3f5f\",\"arrowhead\":0,\"arrowwidth\":1},\"geo\":{\"bgcolor\":\"white\",\"landcolor\":\"#E5ECF6\",\"subunitcolor\":\"white\",\"showland\":true,\"showlakes\":true,\"lakecolor\":\"white\"},\"title\":{\"x\":0.05},\"mapbox\":{\"style\":\"light\"}}},\"xaxis\":{\"anchor\":\"y\",\"domain\":[0.0,1.0],\"title\":{\"text\":\"release_year\"}},\"yaxis\":{\"anchor\":\"x\",\"domain\":[0.0,1.0],\"title\":{\"text\":\"count\"}},\"legend\":{\"title\":{\"text\":\"type\"},\"tracegroupgap\":0},\"title\":{\"text\":\"imdp score histogram analysis\"},\"barmode\":\"relative\"},                        {\"responsive\": true}                    ).then(function(){\n",
       "                            \n",
       "var gd = document.getElementById('08c17fd1-94cf-43e4-922a-f31dd1c066cc');\n",
       "var x = new MutationObserver(function (mutations, observer) {{\n",
       "        var display = window.getComputedStyle(gd).display;\n",
       "        if (!display || display === 'none') {{\n",
       "            console.log([gd, 'removed!']);\n",
       "            Plotly.purge(gd);\n",
       "            observer.disconnect();\n",
       "        }}\n",
       "}});\n",
       "\n",
       "// Listen for the removal of the full notebook cells\n",
       "var notebookContainer = gd.closest('#notebook-container');\n",
       "if (notebookContainer) {{\n",
       "    x.observe(notebookContainer, {childList: true});\n",
       "}}\n",
       "\n",
       "// Listen for the clearing of the current output cell\n",
       "var outputEl = gd.closest('.output');\n",
       "if (outputEl) {{\n",
       "    x.observe(outputEl, {childList: true});\n",
       "}}\n",
       "\n",
       "                        })                };                });            </script>        </div>"
      ]
     },
     "metadata": {},
     "output_type": "display_data"
    }
   ],
   "source": [
    "fig = px.histogram(df, x='release_year',title='imdp score histogram analysis',color='type')\n",
    "fig.show()"
   ]
  },
  {
   "cell_type": "code",
   "execution_count": null,
   "id": "c9a138fc-cc9f-445e-bd09-51498e4e9505",
   "metadata": {},
   "outputs": [],
   "source": []
  },
  {
   "cell_type": "code",
   "execution_count": 33,
   "id": "0572ddc4-918d-4f52-a011-56cd80c060be",
   "metadata": {},
   "outputs": [
    {
     "name": "stdout",
     "output_type": "stream",
     "text": [
      "            genre  count\n",
      "0          family    726\n",
      "1          comedy    629\n",
      "2       animation    472\n",
      "3         fantasy    374\n",
      "4   documentation    350\n",
      "5           drama    333\n",
      "6          action    288\n",
      "7           scifi    255\n",
      "8         romance    129\n",
      "9           music     95\n",
      "10          sport     63\n",
      "11        reality     62\n",
      "12       thriller     54\n",
      "13          crime     45\n",
      "14        history     41\n"
     ]
    }
   ],
   "source": [
    "# Initialize dictionary for genre counts\n",
    "genre_p = dict()\n",
    "\n",
    "# Clean and count genres\n",
    "for genres in df['genres']:\n",
    "    genres = str(genres).replace(\"'\", \"\").replace('\"', \"\")\n",
    "    genres = list(genres.replace('[', '').replace(']', '').split(\",\"))\n",
    "    for genre in genres:\n",
    "        genre = genre.strip()  # Remove leading/trailing whitespace\n",
    "        if genre:  # Skip empty strings\n",
    "            genre_p[genre] = genre_p.get(genre, 0) + 1\n",
    "\n",
    "# Convert to DataFrame\n",
    "df_genre = pd.DataFrame(list(genre_p.items()), columns=['genre', 'count'])\n",
    "\n",
    "# Sort by count descending\n",
    "df_genre = df_genre.sort_values(by='count', ascending=False).reset_index(drop=True)\n",
    "\n",
    "# Display top 15 genres\n",
    "print(df_genre.head(15))"
   ]
  },
  {
   "cell_type": "code",
   "execution_count": 34,
   "id": "8ed556d5-7e4d-4945-ab55-54a0235f19a0",
   "metadata": {
    "tags": []
   },
   "outputs": [
    {
     "data": {
      "application/vnd.plotly.v1+json": {
       "config": {
        "plotlyServerURL": "https://plot.ly"
       },
       "data": [
        {
         "alignmentgroup": "True",
         "hovertemplate": "count=%{x}<br>genre=%{y}<extra></extra>",
         "legendgroup": "",
         "marker": {
          "color": "#636efa",
          "pattern": {
           "shape": ""
          }
         },
         "name": "",
         "offsetgroup": "",
         "orientation": "h",
         "showlegend": false,
         "textposition": "auto",
         "type": "bar",
         "x": [
          726,
          629,
          472,
          374,
          350,
          333,
          288,
          255,
          129,
          95,
          63,
          62,
          54,
          45,
          41,
          35,
          28,
          23,
          6
         ],
         "xaxis": "x",
         "y": [
          "family",
          "comedy",
          "animation",
          "fantasy",
          "documentation",
          "drama",
          "action",
          "scifi",
          "romance",
          "music",
          "sport",
          "reality",
          "thriller",
          "crime",
          "history",
          "european",
          "horror",
          "western",
          "war"
         ],
         "yaxis": "y"
        }
       ],
       "layout": {
        "barmode": "relative",
        "legend": {
         "tracegroupgap": 0
        },
        "template": {
         "data": {
          "bar": [
           {
            "error_x": {
             "color": "#2a3f5f"
            },
            "error_y": {
             "color": "#2a3f5f"
            },
            "marker": {
             "line": {
              "color": "#E5ECF6",
              "width": 0.5
             },
             "pattern": {
              "fillmode": "overlay",
              "size": 10,
              "solidity": 0.2
             }
            },
            "type": "bar"
           }
          ],
          "barpolar": [
           {
            "marker": {
             "line": {
              "color": "#E5ECF6",
              "width": 0.5
             },
             "pattern": {
              "fillmode": "overlay",
              "size": 10,
              "solidity": 0.2
             }
            },
            "type": "barpolar"
           }
          ],
          "carpet": [
           {
            "aaxis": {
             "endlinecolor": "#2a3f5f",
             "gridcolor": "white",
             "linecolor": "white",
             "minorgridcolor": "white",
             "startlinecolor": "#2a3f5f"
            },
            "baxis": {
             "endlinecolor": "#2a3f5f",
             "gridcolor": "white",
             "linecolor": "white",
             "minorgridcolor": "white",
             "startlinecolor": "#2a3f5f"
            },
            "type": "carpet"
           }
          ],
          "choropleth": [
           {
            "colorbar": {
             "outlinewidth": 0,
             "ticks": ""
            },
            "type": "choropleth"
           }
          ],
          "contour": [
           {
            "colorbar": {
             "outlinewidth": 0,
             "ticks": ""
            },
            "colorscale": [
             [
              0,
              "#0d0887"
             ],
             [
              0.1111111111111111,
              "#46039f"
             ],
             [
              0.2222222222222222,
              "#7201a8"
             ],
             [
              0.3333333333333333,
              "#9c179e"
             ],
             [
              0.4444444444444444,
              "#bd3786"
             ],
             [
              0.5555555555555556,
              "#d8576b"
             ],
             [
              0.6666666666666666,
              "#ed7953"
             ],
             [
              0.7777777777777778,
              "#fb9f3a"
             ],
             [
              0.8888888888888888,
              "#fdca26"
             ],
             [
              1,
              "#f0f921"
             ]
            ],
            "type": "contour"
           }
          ],
          "contourcarpet": [
           {
            "colorbar": {
             "outlinewidth": 0,
             "ticks": ""
            },
            "type": "contourcarpet"
           }
          ],
          "heatmap": [
           {
            "colorbar": {
             "outlinewidth": 0,
             "ticks": ""
            },
            "colorscale": [
             [
              0,
              "#0d0887"
             ],
             [
              0.1111111111111111,
              "#46039f"
             ],
             [
              0.2222222222222222,
              "#7201a8"
             ],
             [
              0.3333333333333333,
              "#9c179e"
             ],
             [
              0.4444444444444444,
              "#bd3786"
             ],
             [
              0.5555555555555556,
              "#d8576b"
             ],
             [
              0.6666666666666666,
              "#ed7953"
             ],
             [
              0.7777777777777778,
              "#fb9f3a"
             ],
             [
              0.8888888888888888,
              "#fdca26"
             ],
             [
              1,
              "#f0f921"
             ]
            ],
            "type": "heatmap"
           }
          ],
          "heatmapgl": [
           {
            "colorbar": {
             "outlinewidth": 0,
             "ticks": ""
            },
            "colorscale": [
             [
              0,
              "#0d0887"
             ],
             [
              0.1111111111111111,
              "#46039f"
             ],
             [
              0.2222222222222222,
              "#7201a8"
             ],
             [
              0.3333333333333333,
              "#9c179e"
             ],
             [
              0.4444444444444444,
              "#bd3786"
             ],
             [
              0.5555555555555556,
              "#d8576b"
             ],
             [
              0.6666666666666666,
              "#ed7953"
             ],
             [
              0.7777777777777778,
              "#fb9f3a"
             ],
             [
              0.8888888888888888,
              "#fdca26"
             ],
             [
              1,
              "#f0f921"
             ]
            ],
            "type": "heatmapgl"
           }
          ],
          "histogram": [
           {
            "marker": {
             "pattern": {
              "fillmode": "overlay",
              "size": 10,
              "solidity": 0.2
             }
            },
            "type": "histogram"
           }
          ],
          "histogram2d": [
           {
            "colorbar": {
             "outlinewidth": 0,
             "ticks": ""
            },
            "colorscale": [
             [
              0,
              "#0d0887"
             ],
             [
              0.1111111111111111,
              "#46039f"
             ],
             [
              0.2222222222222222,
              "#7201a8"
             ],
             [
              0.3333333333333333,
              "#9c179e"
             ],
             [
              0.4444444444444444,
              "#bd3786"
             ],
             [
              0.5555555555555556,
              "#d8576b"
             ],
             [
              0.6666666666666666,
              "#ed7953"
             ],
             [
              0.7777777777777778,
              "#fb9f3a"
             ],
             [
              0.8888888888888888,
              "#fdca26"
             ],
             [
              1,
              "#f0f921"
             ]
            ],
            "type": "histogram2d"
           }
          ],
          "histogram2dcontour": [
           {
            "colorbar": {
             "outlinewidth": 0,
             "ticks": ""
            },
            "colorscale": [
             [
              0,
              "#0d0887"
             ],
             [
              0.1111111111111111,
              "#46039f"
             ],
             [
              0.2222222222222222,
              "#7201a8"
             ],
             [
              0.3333333333333333,
              "#9c179e"
             ],
             [
              0.4444444444444444,
              "#bd3786"
             ],
             [
              0.5555555555555556,
              "#d8576b"
             ],
             [
              0.6666666666666666,
              "#ed7953"
             ],
             [
              0.7777777777777778,
              "#fb9f3a"
             ],
             [
              0.8888888888888888,
              "#fdca26"
             ],
             [
              1,
              "#f0f921"
             ]
            ],
            "type": "histogram2dcontour"
           }
          ],
          "mesh3d": [
           {
            "colorbar": {
             "outlinewidth": 0,
             "ticks": ""
            },
            "type": "mesh3d"
           }
          ],
          "parcoords": [
           {
            "line": {
             "colorbar": {
              "outlinewidth": 0,
              "ticks": ""
             }
            },
            "type": "parcoords"
           }
          ],
          "pie": [
           {
            "automargin": true,
            "type": "pie"
           }
          ],
          "scatter": [
           {
            "fillpattern": {
             "fillmode": "overlay",
             "size": 10,
             "solidity": 0.2
            },
            "type": "scatter"
           }
          ],
          "scatter3d": [
           {
            "line": {
             "colorbar": {
              "outlinewidth": 0,
              "ticks": ""
             }
            },
            "marker": {
             "colorbar": {
              "outlinewidth": 0,
              "ticks": ""
             }
            },
            "type": "scatter3d"
           }
          ],
          "scattercarpet": [
           {
            "marker": {
             "colorbar": {
              "outlinewidth": 0,
              "ticks": ""
             }
            },
            "type": "scattercarpet"
           }
          ],
          "scattergeo": [
           {
            "marker": {
             "colorbar": {
              "outlinewidth": 0,
              "ticks": ""
             }
            },
            "type": "scattergeo"
           }
          ],
          "scattergl": [
           {
            "marker": {
             "colorbar": {
              "outlinewidth": 0,
              "ticks": ""
             }
            },
            "type": "scattergl"
           }
          ],
          "scattermapbox": [
           {
            "marker": {
             "colorbar": {
              "outlinewidth": 0,
              "ticks": ""
             }
            },
            "type": "scattermapbox"
           }
          ],
          "scatterpolar": [
           {
            "marker": {
             "colorbar": {
              "outlinewidth": 0,
              "ticks": ""
             }
            },
            "type": "scatterpolar"
           }
          ],
          "scatterpolargl": [
           {
            "marker": {
             "colorbar": {
              "outlinewidth": 0,
              "ticks": ""
             }
            },
            "type": "scatterpolargl"
           }
          ],
          "scatterternary": [
           {
            "marker": {
             "colorbar": {
              "outlinewidth": 0,
              "ticks": ""
             }
            },
            "type": "scatterternary"
           }
          ],
          "surface": [
           {
            "colorbar": {
             "outlinewidth": 0,
             "ticks": ""
            },
            "colorscale": [
             [
              0,
              "#0d0887"
             ],
             [
              0.1111111111111111,
              "#46039f"
             ],
             [
              0.2222222222222222,
              "#7201a8"
             ],
             [
              0.3333333333333333,
              "#9c179e"
             ],
             [
              0.4444444444444444,
              "#bd3786"
             ],
             [
              0.5555555555555556,
              "#d8576b"
             ],
             [
              0.6666666666666666,
              "#ed7953"
             ],
             [
              0.7777777777777778,
              "#fb9f3a"
             ],
             [
              0.8888888888888888,
              "#fdca26"
             ],
             [
              1,
              "#f0f921"
             ]
            ],
            "type": "surface"
           }
          ],
          "table": [
           {
            "cells": {
             "fill": {
              "color": "#EBF0F8"
             },
             "line": {
              "color": "white"
             }
            },
            "header": {
             "fill": {
              "color": "#C8D4E3"
             },
             "line": {
              "color": "white"
             }
            },
            "type": "table"
           }
          ]
         },
         "layout": {
          "annotationdefaults": {
           "arrowcolor": "#2a3f5f",
           "arrowhead": 0,
           "arrowwidth": 1
          },
          "autotypenumbers": "strict",
          "coloraxis": {
           "colorbar": {
            "outlinewidth": 0,
            "ticks": ""
           }
          },
          "colorscale": {
           "diverging": [
            [
             0,
             "#8e0152"
            ],
            [
             0.1,
             "#c51b7d"
            ],
            [
             0.2,
             "#de77ae"
            ],
            [
             0.3,
             "#f1b6da"
            ],
            [
             0.4,
             "#fde0ef"
            ],
            [
             0.5,
             "#f7f7f7"
            ],
            [
             0.6,
             "#e6f5d0"
            ],
            [
             0.7,
             "#b8e186"
            ],
            [
             0.8,
             "#7fbc41"
            ],
            [
             0.9,
             "#4d9221"
            ],
            [
             1,
             "#276419"
            ]
           ],
           "sequential": [
            [
             0,
             "#0d0887"
            ],
            [
             0.1111111111111111,
             "#46039f"
            ],
            [
             0.2222222222222222,
             "#7201a8"
            ],
            [
             0.3333333333333333,
             "#9c179e"
            ],
            [
             0.4444444444444444,
             "#bd3786"
            ],
            [
             0.5555555555555556,
             "#d8576b"
            ],
            [
             0.6666666666666666,
             "#ed7953"
            ],
            [
             0.7777777777777778,
             "#fb9f3a"
            ],
            [
             0.8888888888888888,
             "#fdca26"
            ],
            [
             1,
             "#f0f921"
            ]
           ],
           "sequentialminus": [
            [
             0,
             "#0d0887"
            ],
            [
             0.1111111111111111,
             "#46039f"
            ],
            [
             0.2222222222222222,
             "#7201a8"
            ],
            [
             0.3333333333333333,
             "#9c179e"
            ],
            [
             0.4444444444444444,
             "#bd3786"
            ],
            [
             0.5555555555555556,
             "#d8576b"
            ],
            [
             0.6666666666666666,
             "#ed7953"
            ],
            [
             0.7777777777777778,
             "#fb9f3a"
            ],
            [
             0.8888888888888888,
             "#fdca26"
            ],
            [
             1,
             "#f0f921"
            ]
           ]
          },
          "colorway": [
           "#636efa",
           "#EF553B",
           "#00cc96",
           "#ab63fa",
           "#FFA15A",
           "#19d3f3",
           "#FF6692",
           "#B6E880",
           "#FF97FF",
           "#FECB52"
          ],
          "font": {
           "color": "#2a3f5f"
          },
          "geo": {
           "bgcolor": "white",
           "lakecolor": "white",
           "landcolor": "#E5ECF6",
           "showlakes": true,
           "showland": true,
           "subunitcolor": "white"
          },
          "hoverlabel": {
           "align": "left"
          },
          "hovermode": "closest",
          "mapbox": {
           "style": "light"
          },
          "paper_bgcolor": "white",
          "plot_bgcolor": "#E5ECF6",
          "polar": {
           "angularaxis": {
            "gridcolor": "white",
            "linecolor": "white",
            "ticks": ""
           },
           "bgcolor": "#E5ECF6",
           "radialaxis": {
            "gridcolor": "white",
            "linecolor": "white",
            "ticks": ""
           }
          },
          "scene": {
           "xaxis": {
            "backgroundcolor": "#E5ECF6",
            "gridcolor": "white",
            "gridwidth": 2,
            "linecolor": "white",
            "showbackground": true,
            "ticks": "",
            "zerolinecolor": "white"
           },
           "yaxis": {
            "backgroundcolor": "#E5ECF6",
            "gridcolor": "white",
            "gridwidth": 2,
            "linecolor": "white",
            "showbackground": true,
            "ticks": "",
            "zerolinecolor": "white"
           },
           "zaxis": {
            "backgroundcolor": "#E5ECF6",
            "gridcolor": "white",
            "gridwidth": 2,
            "linecolor": "white",
            "showbackground": true,
            "ticks": "",
            "zerolinecolor": "white"
           }
          },
          "shapedefaults": {
           "line": {
            "color": "#2a3f5f"
           }
          },
          "ternary": {
           "aaxis": {
            "gridcolor": "white",
            "linecolor": "white",
            "ticks": ""
           },
           "baxis": {
            "gridcolor": "white",
            "linecolor": "white",
            "ticks": ""
           },
           "bgcolor": "#E5ECF6",
           "caxis": {
            "gridcolor": "white",
            "linecolor": "white",
            "ticks": ""
           }
          },
          "title": {
           "x": 0.05
          },
          "xaxis": {
           "automargin": true,
           "gridcolor": "white",
           "linecolor": "white",
           "ticks": "",
           "title": {
            "standoff": 15
           },
           "zerolinecolor": "white",
           "zerolinewidth": 2
          },
          "yaxis": {
           "automargin": true,
           "gridcolor": "white",
           "linecolor": "white",
           "ticks": "",
           "title": {
            "standoff": 15
           },
           "zerolinecolor": "white",
           "zerolinewidth": 2
          }
         }
        },
        "title": {
         "text": "analysis of genere"
        },
        "xaxis": {
         "anchor": "y",
         "domain": [
          0,
          1
         ],
         "title": {
          "text": "count"
         }
        },
        "yaxis": {
         "anchor": "x",
         "domain": [
          0,
          1
         ],
         "title": {
          "text": "genre"
         }
        }
       }
      },
      "text/html": [
       "<div>                            <div id=\"7a792ace-2c19-46c4-b9bf-9de29451cff1\" class=\"plotly-graph-div\" style=\"height:525px; width:100%;\"></div>            <script type=\"text/javascript\">                require([\"plotly\"], function(Plotly) {                    window.PLOTLYENV=window.PLOTLYENV || {};                                    if (document.getElementById(\"7a792ace-2c19-46c4-b9bf-9de29451cff1\")) {                    Plotly.newPlot(                        \"7a792ace-2c19-46c4-b9bf-9de29451cff1\",                        [{\"alignmentgroup\":\"True\",\"hovertemplate\":\"count=%{x}<br>genre=%{y}<extra></extra>\",\"legendgroup\":\"\",\"marker\":{\"color\":\"#636efa\",\"pattern\":{\"shape\":\"\"}},\"name\":\"\",\"offsetgroup\":\"\",\"orientation\":\"h\",\"showlegend\":false,\"textposition\":\"auto\",\"x\":[726,629,472,374,350,333,288,255,129,95,63,62,54,45,41,35,28,23,6],\"xaxis\":\"x\",\"y\":[\"family\",\"comedy\",\"animation\",\"fantasy\",\"documentation\",\"drama\",\"action\",\"scifi\",\"romance\",\"music\",\"sport\",\"reality\",\"thriller\",\"crime\",\"history\",\"european\",\"horror\",\"western\",\"war\"],\"yaxis\":\"y\",\"type\":\"bar\"}],                        {\"template\":{\"data\":{\"histogram2dcontour\":[{\"type\":\"histogram2dcontour\",\"colorbar\":{\"outlinewidth\":0,\"ticks\":\"\"},\"colorscale\":[[0.0,\"#0d0887\"],[0.1111111111111111,\"#46039f\"],[0.2222222222222222,\"#7201a8\"],[0.3333333333333333,\"#9c179e\"],[0.4444444444444444,\"#bd3786\"],[0.5555555555555556,\"#d8576b\"],[0.6666666666666666,\"#ed7953\"],[0.7777777777777778,\"#fb9f3a\"],[0.8888888888888888,\"#fdca26\"],[1.0,\"#f0f921\"]]}],\"choropleth\":[{\"type\":\"choropleth\",\"colorbar\":{\"outlinewidth\":0,\"ticks\":\"\"}}],\"histogram2d\":[{\"type\":\"histogram2d\",\"colorbar\":{\"outlinewidth\":0,\"ticks\":\"\"},\"colorscale\":[[0.0,\"#0d0887\"],[0.1111111111111111,\"#46039f\"],[0.2222222222222222,\"#7201a8\"],[0.3333333333333333,\"#9c179e\"],[0.4444444444444444,\"#bd3786\"],[0.5555555555555556,\"#d8576b\"],[0.6666666666666666,\"#ed7953\"],[0.7777777777777778,\"#fb9f3a\"],[0.8888888888888888,\"#fdca26\"],[1.0,\"#f0f921\"]]}],\"heatmap\":[{\"type\":\"heatmap\",\"colorbar\":{\"outlinewidth\":0,\"ticks\":\"\"},\"colorscale\":[[0.0,\"#0d0887\"],[0.1111111111111111,\"#46039f\"],[0.2222222222222222,\"#7201a8\"],[0.3333333333333333,\"#9c179e\"],[0.4444444444444444,\"#bd3786\"],[0.5555555555555556,\"#d8576b\"],[0.6666666666666666,\"#ed7953\"],[0.7777777777777778,\"#fb9f3a\"],[0.8888888888888888,\"#fdca26\"],[1.0,\"#f0f921\"]]}],\"heatmapgl\":[{\"type\":\"heatmapgl\",\"colorbar\":{\"outlinewidth\":0,\"ticks\":\"\"},\"colorscale\":[[0.0,\"#0d0887\"],[0.1111111111111111,\"#46039f\"],[0.2222222222222222,\"#7201a8\"],[0.3333333333333333,\"#9c179e\"],[0.4444444444444444,\"#bd3786\"],[0.5555555555555556,\"#d8576b\"],[0.6666666666666666,\"#ed7953\"],[0.7777777777777778,\"#fb9f3a\"],[0.8888888888888888,\"#fdca26\"],[1.0,\"#f0f921\"]]}],\"contourcarpet\":[{\"type\":\"contourcarpet\",\"colorbar\":{\"outlinewidth\":0,\"ticks\":\"\"}}],\"contour\":[{\"type\":\"contour\",\"colorbar\":{\"outlinewidth\":0,\"ticks\":\"\"},\"colorscale\":[[0.0,\"#0d0887\"],[0.1111111111111111,\"#46039f\"],[0.2222222222222222,\"#7201a8\"],[0.3333333333333333,\"#9c179e\"],[0.4444444444444444,\"#bd3786\"],[0.5555555555555556,\"#d8576b\"],[0.6666666666666666,\"#ed7953\"],[0.7777777777777778,\"#fb9f3a\"],[0.8888888888888888,\"#fdca26\"],[1.0,\"#f0f921\"]]}],\"surface\":[{\"type\":\"surface\",\"colorbar\":{\"outlinewidth\":0,\"ticks\":\"\"},\"colorscale\":[[0.0,\"#0d0887\"],[0.1111111111111111,\"#46039f\"],[0.2222222222222222,\"#7201a8\"],[0.3333333333333333,\"#9c179e\"],[0.4444444444444444,\"#bd3786\"],[0.5555555555555556,\"#d8576b\"],[0.6666666666666666,\"#ed7953\"],[0.7777777777777778,\"#fb9f3a\"],[0.8888888888888888,\"#fdca26\"],[1.0,\"#f0f921\"]]}],\"mesh3d\":[{\"type\":\"mesh3d\",\"colorbar\":{\"outlinewidth\":0,\"ticks\":\"\"}}],\"scatter\":[{\"fillpattern\":{\"fillmode\":\"overlay\",\"size\":10,\"solidity\":0.2},\"type\":\"scatter\"}],\"parcoords\":[{\"type\":\"parcoords\",\"line\":{\"colorbar\":{\"outlinewidth\":0,\"ticks\":\"\"}}}],\"scatterpolargl\":[{\"type\":\"scatterpolargl\",\"marker\":{\"colorbar\":{\"outlinewidth\":0,\"ticks\":\"\"}}}],\"bar\":[{\"error_x\":{\"color\":\"#2a3f5f\"},\"error_y\":{\"color\":\"#2a3f5f\"},\"marker\":{\"line\":{\"color\":\"#E5ECF6\",\"width\":0.5},\"pattern\":{\"fillmode\":\"overlay\",\"size\":10,\"solidity\":0.2}},\"type\":\"bar\"}],\"scattergeo\":[{\"type\":\"scattergeo\",\"marker\":{\"colorbar\":{\"outlinewidth\":0,\"ticks\":\"\"}}}],\"scatterpolar\":[{\"type\":\"scatterpolar\",\"marker\":{\"colorbar\":{\"outlinewidth\":0,\"ticks\":\"\"}}}],\"histogram\":[{\"marker\":{\"pattern\":{\"fillmode\":\"overlay\",\"size\":10,\"solidity\":0.2}},\"type\":\"histogram\"}],\"scattergl\":[{\"type\":\"scattergl\",\"marker\":{\"colorbar\":{\"outlinewidth\":0,\"ticks\":\"\"}}}],\"scatter3d\":[{\"type\":\"scatter3d\",\"line\":{\"colorbar\":{\"outlinewidth\":0,\"ticks\":\"\"}},\"marker\":{\"colorbar\":{\"outlinewidth\":0,\"ticks\":\"\"}}}],\"scattermapbox\":[{\"type\":\"scattermapbox\",\"marker\":{\"colorbar\":{\"outlinewidth\":0,\"ticks\":\"\"}}}],\"scatterternary\":[{\"type\":\"scatterternary\",\"marker\":{\"colorbar\":{\"outlinewidth\":0,\"ticks\":\"\"}}}],\"scattercarpet\":[{\"type\":\"scattercarpet\",\"marker\":{\"colorbar\":{\"outlinewidth\":0,\"ticks\":\"\"}}}],\"carpet\":[{\"aaxis\":{\"endlinecolor\":\"#2a3f5f\",\"gridcolor\":\"white\",\"linecolor\":\"white\",\"minorgridcolor\":\"white\",\"startlinecolor\":\"#2a3f5f\"},\"baxis\":{\"endlinecolor\":\"#2a3f5f\",\"gridcolor\":\"white\",\"linecolor\":\"white\",\"minorgridcolor\":\"white\",\"startlinecolor\":\"#2a3f5f\"},\"type\":\"carpet\"}],\"table\":[{\"cells\":{\"fill\":{\"color\":\"#EBF0F8\"},\"line\":{\"color\":\"white\"}},\"header\":{\"fill\":{\"color\":\"#C8D4E3\"},\"line\":{\"color\":\"white\"}},\"type\":\"table\"}],\"barpolar\":[{\"marker\":{\"line\":{\"color\":\"#E5ECF6\",\"width\":0.5},\"pattern\":{\"fillmode\":\"overlay\",\"size\":10,\"solidity\":0.2}},\"type\":\"barpolar\"}],\"pie\":[{\"automargin\":true,\"type\":\"pie\"}]},\"layout\":{\"autotypenumbers\":\"strict\",\"colorway\":[\"#636efa\",\"#EF553B\",\"#00cc96\",\"#ab63fa\",\"#FFA15A\",\"#19d3f3\",\"#FF6692\",\"#B6E880\",\"#FF97FF\",\"#FECB52\"],\"font\":{\"color\":\"#2a3f5f\"},\"hovermode\":\"closest\",\"hoverlabel\":{\"align\":\"left\"},\"paper_bgcolor\":\"white\",\"plot_bgcolor\":\"#E5ECF6\",\"polar\":{\"bgcolor\":\"#E5ECF6\",\"angularaxis\":{\"gridcolor\":\"white\",\"linecolor\":\"white\",\"ticks\":\"\"},\"radialaxis\":{\"gridcolor\":\"white\",\"linecolor\":\"white\",\"ticks\":\"\"}},\"ternary\":{\"bgcolor\":\"#E5ECF6\",\"aaxis\":{\"gridcolor\":\"white\",\"linecolor\":\"white\",\"ticks\":\"\"},\"baxis\":{\"gridcolor\":\"white\",\"linecolor\":\"white\",\"ticks\":\"\"},\"caxis\":{\"gridcolor\":\"white\",\"linecolor\":\"white\",\"ticks\":\"\"}},\"coloraxis\":{\"colorbar\":{\"outlinewidth\":0,\"ticks\":\"\"}},\"colorscale\":{\"sequential\":[[0.0,\"#0d0887\"],[0.1111111111111111,\"#46039f\"],[0.2222222222222222,\"#7201a8\"],[0.3333333333333333,\"#9c179e\"],[0.4444444444444444,\"#bd3786\"],[0.5555555555555556,\"#d8576b\"],[0.6666666666666666,\"#ed7953\"],[0.7777777777777778,\"#fb9f3a\"],[0.8888888888888888,\"#fdca26\"],[1.0,\"#f0f921\"]],\"sequentialminus\":[[0.0,\"#0d0887\"],[0.1111111111111111,\"#46039f\"],[0.2222222222222222,\"#7201a8\"],[0.3333333333333333,\"#9c179e\"],[0.4444444444444444,\"#bd3786\"],[0.5555555555555556,\"#d8576b\"],[0.6666666666666666,\"#ed7953\"],[0.7777777777777778,\"#fb9f3a\"],[0.8888888888888888,\"#fdca26\"],[1.0,\"#f0f921\"]],\"diverging\":[[0,\"#8e0152\"],[0.1,\"#c51b7d\"],[0.2,\"#de77ae\"],[0.3,\"#f1b6da\"],[0.4,\"#fde0ef\"],[0.5,\"#f7f7f7\"],[0.6,\"#e6f5d0\"],[0.7,\"#b8e186\"],[0.8,\"#7fbc41\"],[0.9,\"#4d9221\"],[1,\"#276419\"]]},\"xaxis\":{\"gridcolor\":\"white\",\"linecolor\":\"white\",\"ticks\":\"\",\"title\":{\"standoff\":15},\"zerolinecolor\":\"white\",\"automargin\":true,\"zerolinewidth\":2},\"yaxis\":{\"gridcolor\":\"white\",\"linecolor\":\"white\",\"ticks\":\"\",\"title\":{\"standoff\":15},\"zerolinecolor\":\"white\",\"automargin\":true,\"zerolinewidth\":2},\"scene\":{\"xaxis\":{\"backgroundcolor\":\"#E5ECF6\",\"gridcolor\":\"white\",\"linecolor\":\"white\",\"showbackground\":true,\"ticks\":\"\",\"zerolinecolor\":\"white\",\"gridwidth\":2},\"yaxis\":{\"backgroundcolor\":\"#E5ECF6\",\"gridcolor\":\"white\",\"linecolor\":\"white\",\"showbackground\":true,\"ticks\":\"\",\"zerolinecolor\":\"white\",\"gridwidth\":2},\"zaxis\":{\"backgroundcolor\":\"#E5ECF6\",\"gridcolor\":\"white\",\"linecolor\":\"white\",\"showbackground\":true,\"ticks\":\"\",\"zerolinecolor\":\"white\",\"gridwidth\":2}},\"shapedefaults\":{\"line\":{\"color\":\"#2a3f5f\"}},\"annotationdefaults\":{\"arrowcolor\":\"#2a3f5f\",\"arrowhead\":0,\"arrowwidth\":1},\"geo\":{\"bgcolor\":\"white\",\"landcolor\":\"#E5ECF6\",\"subunitcolor\":\"white\",\"showland\":true,\"showlakes\":true,\"lakecolor\":\"white\"},\"title\":{\"x\":0.05},\"mapbox\":{\"style\":\"light\"}}},\"xaxis\":{\"anchor\":\"y\",\"domain\":[0.0,1.0],\"title\":{\"text\":\"count\"}},\"yaxis\":{\"anchor\":\"x\",\"domain\":[0.0,1.0],\"title\":{\"text\":\"genre\"}},\"legend\":{\"tracegroupgap\":0},\"title\":{\"text\":\"analysis of genere\"},\"barmode\":\"relative\"},                        {\"responsive\": true}                    ).then(function(){\n",
       "                            \n",
       "var gd = document.getElementById('7a792ace-2c19-46c4-b9bf-9de29451cff1');\n",
       "var x = new MutationObserver(function (mutations, observer) {{\n",
       "        var display = window.getComputedStyle(gd).display;\n",
       "        if (!display || display === 'none') {{\n",
       "            console.log([gd, 'removed!']);\n",
       "            Plotly.purge(gd);\n",
       "            observer.disconnect();\n",
       "        }}\n",
       "}});\n",
       "\n",
       "// Listen for the removal of the full notebook cells\n",
       "var notebookContainer = gd.closest('#notebook-container');\n",
       "if (notebookContainer) {{\n",
       "    x.observe(notebookContainer, {childList: true});\n",
       "}}\n",
       "\n",
       "// Listen for the clearing of the current output cell\n",
       "var outputEl = gd.closest('.output');\n",
       "if (outputEl) {{\n",
       "    x.observe(outputEl, {childList: true});\n",
       "}}\n",
       "\n",
       "                        })                };                });            </script>        </div>"
      ]
     },
     "metadata": {},
     "output_type": "display_data"
    }
   ],
   "source": [
    "x=px.bar(df_genre,y='genre',x='count',title='analysis of genere')\n",
    "x.show()"
   ]
  },
  {
   "cell_type": "markdown",
   "id": "93ca6cea-0dd7-492a-bbaf-6eb792d9d72c",
   "metadata": {},
   "source": [
    "# Summary: \n",
    "High-Scoring Genres\n",
    "Genres such as Drama, Documentary, and Crime appear frequently and are consistently associated with higher IMDb scores. Studios should consider prioritizing projects within these genres, particularly when targeting a critically engaged audience.\n",
    "\n",
    "TV Shows Show Strong Potential\n",
    "A comparison of median IMDb scores suggests that TV shows often receive equal or higher ratings than movies. This may suggests continued opportunity in serialized storytelling formats, especially for streaming platforms.\n",
    "\n",
    "Content Growth Peaks After 2000\n",
    "A histogram of release years shows a sharp increase in both movie and show releases after the early 2000s, aligning with the rise of digital distribution and streaming. Studios may benefit from revisiting trends from this period and adapting them for modern audiences.\n",
    "\n",
    "Top Titles Share Common Themes\n",
    "The top 5 titles by IMDb score tend to focus on emotionally compelling narratives, strong character development, and social commentary. These are thematic elements worth investing in, regardless of genre.\n",
    "\n",
    "Genre Distribution Is Fragmented\n",
    "While certain genres dominate, there is a long tail of niche genres that may offer untapped potential when paired with the right creative approach. Studios can use this insight to experiment with cross-genre hybrids or fresh takes on less saturated categories.\n",
    "\n"
   ]
  },
  {
   "cell_type": "markdown",
   "id": "9d2e7cc0-ae5e-4190-864a-706af498db4f",
   "metadata": {},
   "source": [
    "# Recommendation: \n",
    "Crime and Drama are among the most frequent and highest-rated genres in the dataset.\n",
    "A limited series format (6–10 episodes) allows for great length of storytelling, lower production risk and cost, and strong international licensing appeal.\n",
    "Pairing Crime with elements of Mystery, Thriller, or Documentary-style realism taps into the success of some recent hybrid genre hits (e.g., Mindhunter, Narcos, Chernobyl)."
   ]
  }
 ],
 "metadata": {
  "kernelspec": {
   "display_name": "Python 3 (ipykernel)",
   "language": "python",
   "name": "python3"
  },
  "language_info": {
   "codemirror_mode": {
    "name": "ipython",
    "version": 3
   },
   "file_extension": ".py",
   "mimetype": "text/x-python",
   "name": "python",
   "nbconvert_exporter": "python",
   "pygments_lexer": "ipython3",
   "version": "3.11.5"
  }
 },
 "nbformat": 4,
 "nbformat_minor": 5
}
